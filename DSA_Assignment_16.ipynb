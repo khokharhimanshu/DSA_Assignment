{
 "cells": [
  {
   "cell_type": "markdown",
   "id": "2099c26b-a4ba-47d1-bbb8-38446639881c",
   "metadata": {},
   "source": [
    "# Assignment Question 16"
   ]
  },
  {
   "cell_type": "raw",
   "id": "887ab501-3d86-4064-88b8-8851b326a188",
   "metadata": {},
   "source": [
    "Question 1\n",
    "Given an array, for each element find the value of the nearest element to the right which is having a frequency greater than that of the current element. If there does not exist an answer for a position, then make the value ‘-1’.\n",
    "Examples:\n",
    "Input: a[] = [1, 1, 2, 3, 4, 2, 1]\n",
    "Output : [-1, -1, 1, 2, 2, 1, -1]\n",
    "\n",
    "Explanation:\n",
    "Given array a[] = [1, 1, 2, 3, 4, 2, 1]\n",
    "Frequency of each element is: 3, 3, 2, 1, 1, 2, 3\n",
    "\n",
    "Lets calls Next Greater Frequency element as NGF\n",
    "1. For element a[0] = 1 which has a frequency = 3,\n",
    "   As it has frequency of 3 and no other next element\n",
    "   has frequency more than 3 so  '-1'\n",
    "2. For element a[1] = 1 it will be -1 same logic\n",
    "   like a[0]\n",
    "3. For element a[2] = 2 which has frequency = 2,\n",
    "   NGF element is 1 at position = 6  with frequency\n",
    "   of 3 > 2\n",
    "4. For element a[3] = 3 which has frequency = 1,\n",
    "   NGF element is 2 at position = 5 with frequency\n",
    "   of 2 > 1\n",
    "5. For element a[4] = 4 which has frequency = 1,\n",
    "   NGF element is 2 at position = 5 with frequency\n",
    "   of 2 > 1\n",
    "6. For element a[5] = 2 which has frequency = 2,\n",
    "   NGF element is 1 at position = 6 with frequency\n",
    "   of 3 > 2\n",
    "7. For element a[6] = 1 there is no element to its\n",
    "   right, hence -1\n",
    "   \n",
    "Input : a[] = [1, 1, 1, 2, 2, 2, 2, 11, 3, 3]\n",
    "Output : [2, 2, 2, -1, -1, -1, -1, 3, -1, -1]   "
   ]
  },
  {
   "cell_type": "code",
   "execution_count": 1,
   "id": "c4c4d8a4-c018-4c2f-a359-ee6a8194f06b",
   "metadata": {},
   "outputs": [
    {
     "name": "stdout",
     "output_type": "stream",
     "text": [
      "[-1, -1, -1, -1, -1, -1, -1]\n"
     ]
    }
   ],
   "source": [
    "def nearestGreaterFrequency(arr):\n",
    "    frequency = {}\n",
    "    stack = []\n",
    "    result = []\n",
    "\n",
    "    for i in range(len(arr) - 1, -1, -1):\n",
    "        if arr[i] not in frequency:\n",
    "            frequency[arr[i]] = 0\n",
    "        frequency[arr[i]] += 1\n",
    "\n",
    "        while stack and frequency[arr[i]] >= frequency[stack[-1]]:\n",
    "            stack.pop()\n",
    "\n",
    "        if stack:\n",
    "            result.append(stack[-1])\n",
    "        else:\n",
    "            result.append(-1)\n",
    "\n",
    "        stack.append(arr[i])\n",
    "\n",
    "    return result[::-1]\n",
    "\n",
    "\n",
    "# Example usage:\n",
    "arr = [1, 1, 2, 3, 4, 2, 1]\n",
    "result = nearestGreaterFrequency(arr)\n",
    "print(result)"
   ]
  },
  {
   "cell_type": "raw",
   "id": "0867d04b-310f-464f-b373-22defbfcde37",
   "metadata": {},
   "source": [
    "Question 2\n",
    "Given a stack of integers, sort it in ascending order using another temporary stack.\n",
    "Examples:\n",
    "Input : [34, 3, 31, 98, 92, 23]\n",
    "Output : [3, 23, 31, 34, 92, 98]\n",
    "\n",
    "Input : [3, 5, 1, 4, 2, 8]\n",
    "Output : [1, 2, 3, 4, 5, 8]"
   ]
  },
  {
   "cell_type": "code",
   "execution_count": 2,
   "id": "47b9e63d-52ff-4724-90de-21be130c1441",
   "metadata": {},
   "outputs": [
    {
     "name": "stdout",
     "output_type": "stream",
     "text": [
      "[98, 92, 34, 31, 23, 3]\n",
      "[8, 5, 4, 3, 2, 1]\n"
     ]
    }
   ],
   "source": [
    "def sortStack(stack):\n",
    "    tempStack = []\n",
    "\n",
    "    while stack:\n",
    "        temp = stack.pop()\n",
    "\n",
    "        while tempStack and tempStack[-1] > temp:\n",
    "            stack.append(tempStack.pop())\n",
    "\n",
    "        tempStack.append(temp)\n",
    "\n",
    "    return tempStack[::-1]\n",
    "\n",
    "\n",
    "# Example usage:\n",
    "stack1 = [34, 3, 31, 98, 92, 23]\n",
    "result1 = sortStack(stack1)\n",
    "print(result1) \n",
    "\n",
    "stack2 = [3, 5, 1, 4, 2, 8]\n",
    "result2 = sortStack(stack2)\n",
    "print(result2)  "
   ]
  },
  {
   "cell_type": "raw",
   "id": "19c8ce92-a330-4467-8c1b-a14fa48b2ded",
   "metadata": {},
   "source": [
    "Question 3\n",
    "Given a stack with push(), pop(), and empty() operations, The task is to delete the middle element of it without using any additional data structure.\n",
    "Input  : Stack[] = [1, 2, 3, 4, 5]\n",
    "Output : Stack[] = [1, 2, 4, 5]\n",
    "Input  : Stack[] = [1, 2, 3, 4, 5, 6]\n",
    "Output : Stack[] = [1, 2, 4, 5, 6]"
   ]
  },
  {
   "cell_type": "code",
   "execution_count": 5,
   "id": "4b0e1de7-c986-49e5-8606-26c4a743b177",
   "metadata": {},
   "outputs": [
    {
     "name": "stdout",
     "output_type": "stream",
     "text": [
      "[1, 2, 4, 5]\n",
      "[1, 2, 4, 5, 6]\n"
     ]
    }
   ],
   "source": [
    "def deleteMiddle(stack):\n",
    "    if len(stack) == 0:\n",
    "        return\n",
    "\n",
    "    middle = (len(stack) // 2) + 1\n",
    "\n",
    "    def delete(stack, k):\n",
    "        if k == middle:\n",
    "            stack.pop()\n",
    "            return\n",
    "        temp = stack.pop()\n",
    "        delete(stack, k + 1)\n",
    "        stack.append(temp)\n",
    "\n",
    "    delete(stack, 1)\n",
    "\n",
    "\n",
    "# Example usage:\n",
    "stack1 = [1, 2, 3, 4, 5]\n",
    "deleteMiddle(stack1)\n",
    "print(stack1)  \n",
    "\n",
    "stack2 = [1, 2, 3, 4, 5, 6]\n",
    "deleteMiddle(stack2)\n",
    "print(stack2)  "
   ]
  },
  {
   "cell_type": "raw",
   "id": "22410428-b361-4490-984c-b5b90554beb9",
   "metadata": {},
   "source": [
    "Question 4\n",
    "Given a Queue consisting of first n natural numbers (in random order). The task is to check whether the given Queue elements can be arranged in increasing order in another Queue using a stack. The operation allowed are:\n",
    "1. Push and pop elements from the stack\n",
    "2. Pop (Or Dequeue) from the given Queue.\n",
    "3. Push (Or Enqueue) in the another Queue.\n",
    "Examples :\n",
    "Input : Queue[] = { 5, 1, 2, 3, 4 } \n",
    "Output : Yes \n",
    "Pop the first element of the given Queue \n",
    "i.e 5. Push 5 into the stack. \n",
    "Now, pop all the elements of the given Queue and push them to second Queue. \n",
    "Now, pop element 5 in the stack and push it to the second Queue.   \n",
    "Input : Queue[] = { 5, 1, 2, 6, 3, 4 } \n",
    "Output : No \n",
    "Push 5 to stack. \n",
    "Pop 1, 2 from given Queue and push it to another Queue. \n",
    "Pop 6 from given Queue and push to stack. \n",
    "Pop 3, 4 from given Queue and push to second Queue. \n",
    "Now, from using any of above operation, we cannot push 5 into the second Queue because it is below the 6 in the stack."
   ]
  },
  {
   "cell_type": "code",
   "execution_count": 6,
   "id": "07bd78eb-b51b-4753-871f-3d8287620159",
   "metadata": {},
   "outputs": [
    {
     "name": "stdout",
     "output_type": "stream",
     "text": [
      "False\n",
      "False\n"
     ]
    }
   ],
   "source": [
    "def checkQueueSorting(queue):\n",
    "    stack = []\n",
    "    n = len(queue)\n",
    "    sorted_queue = []\n",
    "\n",
    "    for i in range(n):\n",
    "        current = queue.pop(0)\n",
    "        sorted_queue.append(current)\n",
    "\n",
    "        while len(stack) > 0 and stack[-1] == sorted_queue[0] + 1:\n",
    "            stack.pop()\n",
    "            sorted_queue.pop(0)\n",
    "\n",
    "        if len(sorted_queue) > 0 and (len(stack) == 0 or sorted_queue[0] > stack[-1]):\n",
    "            stack.append(current)\n",
    "        else:\n",
    "            queue.append(current)\n",
    "\n",
    "    while len(sorted_queue) > 0 and stack[-1] == sorted_queue[0] + 1:\n",
    "        stack.pop()\n",
    "        sorted_queue.pop(0)\n",
    "\n",
    "    return len(sorted_queue) == 0\n",
    "\n",
    "\n",
    "# Example usage:\n",
    "queue1 = [5, 1, 2, 3, 4]\n",
    "print(checkQueueSorting(queue1))  \n",
    "\n",
    "queue2 = [5, 1, 2, 6, 3, 4]\n",
    "print(checkQueueSorting(queue2))  "
   ]
  },
  {
   "cell_type": "raw",
   "id": "b88aacae-b12b-4532-a79e-6a43ca448c2a",
   "metadata": {},
   "source": [
    "Question 5\n",
    "Given a number , write a program to reverse this number using stack.\n",
    "Examples:\n",
    "Input : 365\n",
    "Output : 563\n",
    "\n",
    "Input : 6899\n",
    "Output : 9986"
   ]
  },
  {
   "cell_type": "code",
   "execution_count": 7,
   "id": "02def5e8-8fdb-4ecb-bf19-fccf8a9392b5",
   "metadata": {},
   "outputs": [
    {
     "name": "stdout",
     "output_type": "stream",
     "text": [
      "563\n",
      "9986\n"
     ]
    }
   ],
   "source": [
    "def reverseNumber(number):\n",
    "    stack = []\n",
    "    result = 0\n",
    "\n",
    "    while number != 0:\n",
    "        digit = number % 10\n",
    "        stack.append(digit)\n",
    "        number //= 10\n",
    "\n",
    "    place_value = 1\n",
    "    while len(stack) > 0:\n",
    "        digit = stack.pop()\n",
    "        result += digit * place_value\n",
    "        place_value *= 10\n",
    "\n",
    "    return result\n",
    "\n",
    "\n",
    "# Example usage:\n",
    "number1 = 365\n",
    "print(reverseNumber(number1))  \n",
    "\n",
    "number2 = 6899\n",
    "print(reverseNumber(number2))  "
   ]
  },
  {
   "cell_type": "raw",
   "id": "f5b6067a-f1dd-4bc0-80bb-6a13528086ee",
   "metadata": {},
   "source": [
    "Question 6\n",
    "Given an integer k and a [queue](https://www.geeksforgeeks.org/queue-data-structures) of integers, The task is to reverse the order of the first k elements of the queue, leaving the other elements in the same relative order.\n",
    "\n",
    "Only following standard operations are allowed on queue.\n",
    "\n",
    "- enqueue(x) : Add an item x to rear of queue\n",
    "- dequeue() : Remove an item from front of queue\n",
    "- size() : Returns number of elements in queue.\n",
    "- front() : Finds front item."
   ]
  },
  {
   "cell_type": "code",
   "execution_count": 8,
   "id": "1d714c00-5b30-4a0c-8084-2aa3e1d4395c",
   "metadata": {},
   "outputs": [
    {
     "name": "stdout",
     "output_type": "stream",
     "text": [
      "3 2 1 4 5 "
     ]
    }
   ],
   "source": [
    "from queue import Queue\n",
    "\n",
    "def reverseK(queue, k):\n",
    "    stack = []\n",
    "\n",
    "    for _ in range(k):\n",
    "        stack.append(queue.get())\n",
    "\n",
    "    while stack:\n",
    "        queue.put(stack.pop())\n",
    "\n",
    "    for _ in range(queue.qsize() - k):\n",
    "        queue.put(queue.get())\n",
    "\n",
    "\n",
    "# Example usage:\n",
    "queue = Queue()\n",
    "queue.put(1)\n",
    "queue.put(2)\n",
    "queue.put(3)\n",
    "queue.put(4)\n",
    "queue.put(5)\n",
    "\n",
    "k = 3\n",
    "\n",
    "reverseK(queue, k)\n",
    "\n",
    "while not queue.empty():\n",
    "    print(queue.get(), end=\" \")  "
   ]
  },
  {
   "cell_type": "raw",
   "id": "4fd9e31a-e167-4aea-9f08-4d721a8d2b58",
   "metadata": {},
   "source": [
    "Question 7\n",
    "Given a sequence of n strings, the task is to check if any two similar words come together and then destroy each other then print the number of words left in the sequence after this pairwise destruction.\n",
    "Examples:\n",
    "Input : ab aa aa bcd ab\n",
    "Output : 3\n",
    "As aa, aa destroys each other so,\n",
    "ab bcd ab is the new sequence.\n",
    "Input :  tom jerry jerry tom\n",
    "Output : 0\n",
    "As first both jerry will destroy each other. Then sequence will be tom, tom they will also destroy each other. So, the final sequence doesn’t contain any word."
   ]
  },
  {
   "cell_type": "code",
   "execution_count": 10,
   "id": "7aaec478-6bc8-429c-9d14-ec6dff60657a",
   "metadata": {},
   "outputs": [
    {
     "name": "stdin",
     "output_type": "stream",
     "text": [
      "Enter the sequence of words:  Himanshu khokhar\n"
     ]
    },
    {
     "name": "stdout",
     "output_type": "stream",
     "text": [
      "Number of words left:  2\n"
     ]
    }
   ],
   "source": [
    "def countWordsLeft(sequence):\n",
    "    stack = []\n",
    "\n",
    "    for word in sequence:\n",
    "        if stack and stack[-1] == word:\n",
    "            stack.pop()\n",
    "        else:\n",
    "            stack.append(word)\n",
    "\n",
    "    return len(stack)\n",
    "\n",
    "\n",
    "# Example usage:\n",
    "sequence = input(\"Enter the sequence of words: \").split()\n",
    "\n",
    "wordsLeft = countWordsLeft(sequence)\n",
    "print(\"Number of words left: \", wordsLeft)\n"
   ]
  },
  {
   "cell_type": "raw",
   "id": "ec5167c4-1c22-4d3e-84cd-cea80946eb26",
   "metadata": {},
   "source": [
    "Question 8\n",
    "Given an array of integers, the task is to find the maximum absolute difference between the nearest left and the right smaller element of every element in the array.\n",
    "Note: If there is no smaller element on right side or left side of any element then we take zero as the smaller element. For example for the leftmost element, the nearest smaller element on the left side is considered as 0. Similarly, for rightmost elements, the smaller element on the right side is considered as 0.\n",
    "Example :\n",
    "Input : arr[] = {2, 1, 8}\n",
    "Output : 1\n",
    "Left smaller  LS[] {0, 0, 1}\n",
    "Right smaller RS[] {1, 0, 0}\n",
    "Maximum Diff of abs(LS[i] - RS[i]) = 1\n",
    "\n",
    "Input  : arr[] = {2, 4, 8, 7, 7, 9, 3}\n",
    "Output : 4\n",
    "Left smaller   LS[] = {0, 2, 4, 4, 4, 7, 2}\n",
    "Right smaller  RS[] = {0, 3, 7, 3, 3, 3, 0}\n",
    "Maximum Diff of abs(LS[i] - RS[i]) = 7 - 3 = 4\n",
    "\n",
    "Input : arr[] = {5, 1, 9, 2, 5, 1, 7}\n",
    "Output : 1"
   ]
  },
  {
   "cell_type": "code",
   "execution_count": null,
   "id": "4870308e-eff0-49a7-8e71-131efea478b5",
   "metadata": {},
   "outputs": [],
   "source": [
    "def findMaxDiff(arr):\n",
    "    n = len(arr)\n",
    "    LS = [0] * n  \n",
    "    RS = [0] * n  \n",
    "\n",
    "    stack = []\n",
    "    for i in range(n):\n",
    "        while stack and stack[-1] >= arr[i]:\n",
    "            stack.pop()\n",
    "\n",
    "        if stack:\n",
    "            LS[i] = stack[-1]\n",
    "\n",
    "        stack.append(arr[i])\n",
    "    stack.clear()\n",
    "\n",
    "    for i in range(n - 1, -1, -1):\n",
    "        while stack and stack[-1] >= arr[i]:\n",
    "            stack.pop()\n",
    "\n",
    "        if stack:\n",
    "            RS[i] = stack[-1]\n",
    "\n",
    "        stack.append(arr[i])\n",
    "\n",
    "    maxDiff = 0\n",
    "    for i in range(n):\n",
    "        maxDiff = max(maxDiff, abs(LS[i] - RS[i]))\n",
    "\n",
    "    return maxDiff\n",
    "\n",
    "\n",
    "# Example usage:\n",
    "arr = [int(x) for x in input(\"Enter the array of integers: \").split()]\n",
    "\n",
    "maxDiff = findMaxDiff(arr)\n",
    "print(\"Maximum absolute difference:\", maxDiff)"
   ]
  },
  {
   "cell_type": "code",
   "execution_count": null,
   "id": "d3b0e39a-6c64-4f28-b778-133973062fab",
   "metadata": {},
   "outputs": [],
   "source": []
  }
 ],
 "metadata": {
  "kernelspec": {
   "display_name": "Python 3 (ipykernel)",
   "language": "python",
   "name": "python3"
  },
  "language_info": {
   "codemirror_mode": {
    "name": "ipython",
    "version": 3
   },
   "file_extension": ".py",
   "mimetype": "text/x-python",
   "name": "python",
   "nbconvert_exporter": "python",
   "pygments_lexer": "ipython3",
   "version": "3.10.6"
  }
 },
 "nbformat": 4,
 "nbformat_minor": 5
}
