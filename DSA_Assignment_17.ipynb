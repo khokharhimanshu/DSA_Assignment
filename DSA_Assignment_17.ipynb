{
 "cells": [
  {
   "cell_type": "markdown",
   "id": "c4ce52a3-914a-41ae-9b7e-05092dc93289",
   "metadata": {},
   "source": [
    "# Assignment Question 17"
   ]
  },
  {
   "cell_type": "raw",
   "id": "13e945c6-1160-4c83-9ca5-b8ea24c1a7c5",
   "metadata": {},
   "source": [
    "Question 1\n",
    "Given a string `s`, find the first non-repeating character in it and return its index. If it does not exist, return `-1`.\n",
    "Example 1:\n",
    "Input: s = \"leetcode\"\n",
    "Output: 0\n",
    "Example 2:\n",
    "Input: s = \"loveleetcode\"\n",
    "Output: 2\n",
    "Example 3:\n",
    "Input: s = \"aabb\"\n",
    "Output: -1"
   ]
  },
  {
   "cell_type": "code",
   "execution_count": 1,
   "id": "4285f3ec-2c0a-42e5-a6d0-52287b902e81",
   "metadata": {},
   "outputs": [
    {
     "name": "stdout",
     "output_type": "stream",
     "text": [
      "0\n",
      "2\n",
      "-1\n"
     ]
    }
   ],
   "source": [
    "def firstUniqChar(s):\n",
    "    char_count = {}\n",
    "    \n",
    "    for char in s:\n",
    "        if char in char_count:\n",
    "            char_count[char] += 1\n",
    "        else:\n",
    "            char_count[char] = 1\n",
    "    \n",
    "    for index, char in enumerate(s):\n",
    "        if char_count[char] == 1:\n",
    "            return index\n",
    "    \n",
    "    return -1\n",
    "\n",
    "s1 = \"leetcode\"\n",
    "print(firstUniqChar(s1))  \n",
    "\n",
    "s2 = \"loveleetcode\"\n",
    "print(firstUniqChar(s2))  \n",
    "\n",
    "s3 = \"aabb\"\n",
    "print(firstUniqChar(s3)) "
   ]
  },
  {
   "cell_type": "raw",
   "id": "b414ce7f-1609-4c3b-b01f-d79f2ef279a0",
   "metadata": {},
   "source": [
    "Question 2\n",
    "Given a circular integer array `nums` of length `n`, return the maximum possible sum of a non-empty subarray of `nums`.\n",
    "A circular array means the end of the array connects to the beginning of the array. Formally, the next element of `nums[i]` is `nums[(i + 1) % n]` and the previous element of `nums[i]` is `nums[(i - 1 + n) % n]`.\n",
    "\n",
    "A **subarray** may only include each element of the fixed buffer `nums` at most once. Formally, for a subarray `nums[i], nums[i + 1], ..., nums[j]`, there does not exist `i <= k1`, `k2 <= j` with `k1 % n == k2 % n`.\n",
    "Example 1:\n",
    "Input: nums = [1,-2,3,-2]\n",
    "Output: 3\n",
    "Explanation: Subarray [3] has maximum sum 3.\n",
    "Example 2:\n",
    "Input: nums = [5,-3,5]\n",
    "Output: 10\n",
    "Explanation: Subarray [5,5] has maximum sum 5 + 5 = 10.\n",
    "Example 3:\n",
    "Input: nums = [-3,-2,-3]\n",
    "Output: -2\n",
    "Explanation: Subarray [-2] has maximum sum -2."
   ]
  },
  {
   "cell_type": "code",
   "execution_count": 2,
   "id": "61d45665-4533-4dd0-b8c4-d8ba577c2186",
   "metadata": {},
   "outputs": [
    {
     "name": "stdout",
     "output_type": "stream",
     "text": [
      "3\n",
      "10\n",
      "-2\n"
     ]
    }
   ],
   "source": [
    "def maxSubarraySumCircular(nums):\n",
    "    max_sum = float('-inf')\n",
    "    current_sum = 0\n",
    "\n",
    "    for num in nums:\n",
    "        current_sum = max(num, current_sum + num)\n",
    "        max_sum = max(max_sum, current_sum)\n",
    "\n",
    "    min_sum = float('inf')\n",
    "    current_sum = 0\n",
    "\n",
    "    for num in nums:\n",
    "        current_sum = min(num, current_sum + num)\n",
    "        min_sum = min(min_sum, current_sum)\n",
    "\n",
    "    total_sum = sum(nums)\n",
    "\n",
    "    if total_sum == min_sum:\n",
    "        return max_sum\n",
    "    return max(max_sum, total_sum - min_sum)\n",
    "\n",
    "nums1 = [1, -2, 3, -2]\n",
    "print(maxSubarraySumCircular(nums1)) \n",
    "\n",
    "nums2 = [5, -3, 5]\n",
    "print(maxSubarraySumCircular(nums2))  \n",
    "\n",
    "nums3 = [-3, -2, -3]\n",
    "print(maxSubarraySumCircular(nums3))  "
   ]
  },
  {
   "cell_type": "raw",
   "id": "93d082b3-1281-4d23-89f5-8c7b88e4008a",
   "metadata": {},
   "source": [
    "Question 3\n",
    "The school cafeteria offers circular and square sandwiches at lunch break, referred to by numbers `0` and `1` respectively. All students stand in a queue. Each student either prefers square or circular sandwiches.\n",
    "\n",
    "The number of sandwiches in the cafeteria is equal to the number of students. The sandwiches are placed in a stack. At each step:\n",
    "- If the student at the front of the queue prefers the sandwich on the top of the stack, they will take it and leave the queue.\n",
    "- Otherwise, they will leave it and go to the queue's end.\n",
    "This continues until none of the queue students want to take the top sandwich and are thus unable to eat.\n",
    "You are given two integer arrays `students` and `sandwiches` where `sandwiches[i]` is the type of the `ith` sandwich in the stack (`i = 0` is the top of the stack) and `students[j]` is the preference of the `jth` student in the initial queue (`j = 0` is the front of the queue). Return the number of students that are unable to eat.\n",
    "Example 1:\n",
    "Input: students = [1,1,0,0], sandwiches = [0,1,0,1]\n",
    "Output: 0\n",
    "Explanation:\n",
    "- Front student leaves the top sandwich and returns to the end of the line making students = [1,0,0,1].\n",
    "- Front student leaves the top sandwich and returns to the end of the line making students = [0,0,1,1].\n",
    "- Front student takes the top sandwich and leaves the line making students = [0,1,1] and sandwiches = [1,0,1].\n",
    "- Front student leaves the top sandwich and returns to the end of the line making students = [1,1,0].\n",
    "- Front student takes the top sandwich and leaves the line making students = [1,0] and sandwiches = [0,1].\n",
    "- Front student leaves the top sandwich and returns to the end of the line making students = [0,1].\n",
    "- Front student takes the top sandwich and leaves the line making students = [1] and sandwiches = [1].\n",
    "- Front student takes the top sandwich and leaves the line making students = [] and sandwiches = [].\n",
    "Hence all students are able to eat.\n",
    "Example 2:\n",
    "Input: students = [1,1,1,0,0,1], sandwiches = [1,0,0,0,1,1]\n",
    "Output: 3"
   ]
  },
  {
   "cell_type": "code",
   "execution_count": 3,
   "id": "b6534601-b225-4e24-8cc8-117468d1ce33",
   "metadata": {},
   "outputs": [
    {
     "name": "stdout",
     "output_type": "stream",
     "text": [
      "0\n",
      "3\n"
     ]
    }
   ],
   "source": [
    "def countStudents(students, sandwiches):\n",
    "    count = 0  \n",
    "    while len(students) > 0:\n",
    "        if students[0] == sandwiches[0]:\n",
    "            students.pop(0) \n",
    "            sandwiches.pop(0)\n",
    "            count = 0  \n",
    "        else:\n",
    "            students.append(students.pop(0))  \n",
    "            count += 1\n",
    "\n",
    "        if count == len(students):\n",
    "            break\n",
    "\n",
    "    return count\n",
    "\n",
    "students1 = [1, 1, 0, 0]\n",
    "sandwiches1 = [0, 1, 0, 1]\n",
    "print(countStudents(students1, sandwiches1))  \n",
    "\n",
    "students2 = [1, 1, 1, 0, 0, 1]\n",
    "sandwiches2 = [1, 0, 0, 0, 1, 1]\n",
    "print(countStudents(students2, sandwiches2))  "
   ]
  },
  {
   "cell_type": "raw",
   "id": "394a4310-c308-49da-a6d3-edbfa709d663",
   "metadata": {},
   "source": [
    "Question 4\n",
    "You have a `RecentCounter` class which counts the number of recent requests within a certain time frame.\n",
    "\n",
    "Implement the `RecentCounter` class:\n",
    "\n",
    "- `RecentCounter()` Initializes the counter with zero recent requests.\n",
    "- `int ping(int t)` Adds a new request at time `t`, where `t` represents some time in milliseconds, and returns the number of requests that has happened in the past `3000` milliseconds (including the new request). Specifically, return the number of requests that have happened in the inclusive range `[t - 3000, t]`.\n",
    "\n",
    "It is guaranteed that every call to `ping` uses a strictly larger value of `t` than the previous call.\n",
    "Example 1:\n",
    "Input\n",
    "[\"RecentCounter\", \"ping\", \"ping\", \"ping\", \"ping\"]\n",
    "[[], [1], [100], [3001], [3002]]\n",
    "Output\n",
    "[null, 1, 2, 3, 3]\n",
    "\n",
    "Explanation\n",
    "RecentCounter recentCounter = new RecentCounter();\n",
    "recentCounter.ping(1);     // requests = [1], range is [-2999,1], return 1\n",
    "recentCounter.ping(100);   // requests = [1,100], range is [-2900,100], return 2\n",
    "recentCounter.ping(3001);  // requests = [1,100,3001], range is [1,3001], return 3\n",
    "recentCounter.ping(3002);  // requests = [1,100,3001,3002], range is [2,3002], return 3"
   ]
  },
  {
   "cell_type": "code",
   "execution_count": 4,
   "id": "fc992801-998c-4b53-850f-5d55b9f611ac",
   "metadata": {},
   "outputs": [
    {
     "name": "stdout",
     "output_type": "stream",
     "text": [
      "1\n",
      "2\n",
      "3\n",
      "3\n"
     ]
    }
   ],
   "source": [
    "class RecentCounter:\n",
    "    def __init__(self):\n",
    "        self.requests = []\n",
    "    \n",
    "    def ping(self, t):\n",
    "        self.requests.append(t)  \n",
    "        \n",
    "        count = 0\n",
    "        for i in range(len(self.requests) - 1, -1, -1):\n",
    "            if self.requests[i] < t - 3000:\n",
    "                break\n",
    "            count += 1\n",
    "        \n",
    "        return count\n",
    "\n",
    "recentCounter = RecentCounter()\n",
    "print(recentCounter.ping(1))   \n",
    "print(recentCounter.ping(100))   \n",
    "print(recentCounter.ping(3001))  \n",
    "print(recentCounter.ping(3002))  "
   ]
  },
  {
   "cell_type": "raw",
   "id": "d1691beb-dd0e-4589-be9b-6321376566ae",
   "metadata": {},
   "source": [
    "Question 5\n",
    "There are `n` friends that are playing a game. The friends are sitting in a circle and are numbered from `1` to `n` in clockwise order. More formally, moving clockwise from the `ith` friend brings you to the `(i+1)th` friend for `1 <= i < n`, and moving clockwise from the `nth` friend brings you to the `1st` friend.\n",
    "\n",
    "The rules of the game are as follows:\n",
    "\n",
    "1. Start at the `1st` friend.\n",
    "2. Count the next `k` friends in the clockwise direction including the friend you started at. The counting wraps around the circle and may count some friends more than once.\n",
    "3. The last friend you counted leaves the circle and loses the game.\n",
    "4. If there is still more than one friend in the circle, go back to step `2` starting from the friend immediately clockwise of the friend who just lost and repeat.\n",
    "5. Else, the last friend in the circle wins the game.\n",
    "\n",
    "Given the number of friends, `n`, and an integer `k`, return the winner of the game.\n",
    "Example 1:\n",
    "Input: n = 5, k = 2\n",
    "Output: 3\n",
    "Explanation: Here are the steps of the game:\n",
    "1) Start at friend 1.\n",
    "2) Count 2 friends clockwise, which are friends 1 and 2.\n",
    "3) Friend 2 leaves the circle. Next start is friend 3.\n",
    "4) Count 2 friends clockwise, which are friends 3 and 4.\n",
    "5) Friend 4 leaves the circle. Next start is friend 5.\n",
    "6) Count 2 friends clockwise, which are friends 5 and 1.\n",
    "7) Friend 1 leaves the circle. Next start is friend 3.\n",
    "8) Count 2 friends clockwise, which are friends 3 and 5.\n",
    "9) Friend 5 leaves the circle. Only friend 3 is left, so they are the winner.\n",
    "Example 2:\n",
    "Input: n = 6, k = 5\n",
    "Output: 1\n",
    "Explanation: The friends leave in this order: 5, 4, 6, 2, 3. The winner is friend 1."
   ]
  },
  {
   "cell_type": "code",
   "execution_count": 5,
   "id": "7ef16586-7aef-4c80-9ef1-098f58418068",
   "metadata": {},
   "outputs": [
    {
     "name": "stdout",
     "output_type": "stream",
     "text": [
      "3\n",
      "1\n"
     ]
    }
   ],
   "source": [
    "def findTheWinner(n, k):\n",
    "    friends = list(range(1, n + 1))  \n",
    "\n",
    "    index = 0  \n",
    "\n",
    "    while len(friends) > 1:\n",
    "        index = (index + k - 1) % len(friends) \n",
    "        friends.pop(index)  \n",
    "\n",
    "    return friends[0] \n",
    "\n",
    "print(findTheWinner(5, 2))  \n",
    "print(findTheWinner(6, 5))  \n"
   ]
  },
  {
   "cell_type": "raw",
   "id": "83c45c71-a6d2-4b34-86af-cd4250b53098",
   "metadata": {},
   "source": [
    "Question 6\n",
    "You are given an integer array `deck`. There is a deck of cards where every card has a unique integer. The integer on the `ith` card is `deck[i]`.\n",
    "\n",
    "You can order the deck in any order you want. Initially, all the cards start face down (unrevealed) in one deck.\n",
    "\n",
    "You will do the following steps repeatedly until all cards are revealed:\n",
    "\n",
    "1. Take the top card of the deck, reveal it, and take it out of the deck.\n",
    "2. If there are still cards in the deck then put the next top card of the deck at the bottom of the deck.\n",
    "3. If there are still unrevealed cards, go back to step 1. Otherwise, stop.\n",
    "\n",
    "Return an ordering of the deck that would reveal the cards in increasing order.\n",
    "Note that the first entry in the answer is considered to be the top of the deck.\n",
    "Example 1:\n",
    "Input: deck = [17,13,11,2,3,5,7]\n",
    "Output: [2,13,3,11,5,17,7]\n",
    "Explanation:\n",
    "We get the deck in the order [17,13,11,2,3,5,7] (this order does not matter), and reorder it.\n",
    "After reordering, the deck starts as [2,13,3,11,5,17,7], where 2 is the top of the deck.\n",
    "We reveal 2, and move 13 to the bottom.  The deck is now [3,11,5,17,7,13].\n",
    "We reveal 3, and move 11 to the bottom.  The deck is now [5,17,7,13,11].\n",
    "We reveal 5, and move 17 to the bottom.  The deck is now [7,13,11,17].\n",
    "We reveal 7, and move 13 to the bottom.  The deck is now [11,17,13].\n",
    "We reveal 11, and move 17 to the bottom.  The deck is now [13,17].\n",
    "We reveal 13, and move 17 to the bottom.  The deck is now [17].\n",
    "We reveal 17.\n",
    "Since all the cards revealed are in increasing order, the answer is correct.\n",
    "Example 2:\n",
    "Input: deck = [1,1000]\n",
    "Output: [1,1000]"
   ]
  },
  {
   "cell_type": "code",
   "execution_count": 6,
   "id": "d93b1b30-47d5-40fb-9e8d-238f2a3570fe",
   "metadata": {},
   "outputs": [
    {
     "name": "stdout",
     "output_type": "stream",
     "text": [
      "[2, 13, 3, 11, 5, 17, 7]\n",
      "[1, 1000]\n"
     ]
    }
   ],
   "source": [
    "import collections\n",
    "\n",
    "def deckRevealedIncreasing(deck):\n",
    "    deck.sort(reverse=True)\n",
    "\n",
    "    queue = collections.deque()\n",
    "\n",
    "    queue.appendleft(deck[0])\n",
    "\n",
    "    for card in deck[1:]:\n",
    "        queue.appendleft(queue.pop())\n",
    "\n",
    "        queue.appendleft(card)\n",
    "\n",
    "    return list(queue)\n",
    "\n",
    "print(deckRevealedIncreasing([17, 13, 11, 2, 3, 5, 7]))  \n",
    "print(deckRevealedIncreasing([1, 1000]))              "
   ]
  },
  {
   "cell_type": "raw",
   "id": "cb8797d1-15c6-4a84-80c1-60af0f38321c",
   "metadata": {},
   "source": [
    "Question 7\n",
    "Design a queue that supports `push` and `pop` operations in the front, middle, and back.\n",
    "\n",
    "Implement the `FrontMiddleBack` class:\n",
    "\n",
    "- `FrontMiddleBack()` Initializes the queue.\n",
    "- `void pushFront(int val)` Adds `val` to the front of the queue.\n",
    "- `void pushMiddle(int val)` Adds `val` to the middle of the queue.\n",
    "- `void pushBack(int val)` Adds `val` to the back of the queue.\n",
    "- `int popFront()` Removes the front element of the queue and returns it. If the queue is empty, return `1`.\n",
    "- `int popMiddle()` Removes the middle element of the queue and returns it. If the queue is empty, return `1`.\n",
    "- `int popBack()` Removes the back element of the queue and returns it. If the queue is empty, return `1`.\n",
    "\n",
    "Notice that when there are two middle position choices, the operation is performed on the frontmost middle position choice. For example:\n",
    "\n",
    "- Pushing `6` into the middle of `[1, 2, 3, 4, 5]` results in `[1, 2, 6, 3, 4, 5]`.\n",
    "- Popping the middle from `[1, 2, 3, 4, 5, 6]` returns `3` and results in `[1, 2, 4, 5, 6]`.\n",
    "Example 1:\n",
    "Input:\n",
    "[\"FrontMiddleBackQueue\", \"pushFront\", \"pushBack\", \"pushMiddle\", \"pushMiddle\", \"popFront\", \"popMiddle\", \"popMiddle\", \"popBack\", \"popFront\"]\n",
    "[[], [1], [2], [3], [4], [], [], [], [], []]\n",
    "Output:\n",
    "[null, null, null, null, null, 1, 3, 4, 2, -1]\n",
    "\n",
    "Explanation:\n",
    "FrontMiddleBackQueue q = new FrontMiddleBackQueue();\n",
    "q.pushFront(1);   // [1]\n",
    "q.pushBack(2);    // [1,2]\n",
    "q.pushMiddle(3);  // [1,3, 2]\n",
    "q.pushMiddle(4);  // [1,4, 3, 2]\n",
    "q.popFront();     // return 1 -> [4, 3, 2]\n",
    "q.popMiddle();    // return 3 -> [4, 2]\n",
    "q.popMiddle();    // return 4 -> [2]\n",
    "q.popBack();      // return 2 -> []\n",
    "q.popFront();     // return -1 -> [] (The queue is empty)"
   ]
  },
  {
   "cell_type": "code",
   "execution_count": 7,
   "id": "643ce79d-b58d-4c82-9ad3-69fd57a20af7",
   "metadata": {},
   "outputs": [],
   "source": [
    "class FrontMiddleBackQueue:\n",
    "    def __init__(self):\n",
    "        self.front = []\n",
    "        self.back = []\n",
    "\n",
    "    def pushFront(self, val):\n",
    "        self.front.append(val)\n",
    "        self.balance()\n",
    "\n",
    "    def pushMiddle(self, val):\n",
    "        if len(self.front) > len(self.back):\n",
    "            self.back.append(self.front.pop())\n",
    "        self.front.append(val)\n",
    "\n",
    "    def pushBack(self, val):\n",
    "        self.back.append(val)\n",
    "        self.balance()\n",
    "\n",
    "    def popFront(self):\n",
    "        if self.front:\n",
    "            return self.front.pop()\n",
    "        elif self.back:\n",
    "            return self.back.pop(0)\n",
    "        else:\n",
    "            return -1\n",
    "\n",
    "    def popMiddle(self):\n",
    "        if len(self.front) == len(self.back):\n",
    "            return self.front.pop()\n",
    "        else:\n",
    "            return self.back.pop(0)\n",
    "\n",
    "    def popBack(self):\n",
    "        if self.back:\n",
    "            return self.back.pop()\n",
    "        elif self.front:\n",
    "            return self.front.pop()\n",
    "        else:\n",
    "            return -1\n",
    "\n",
    "    def balance(self):\n",
    "        if len(self.front) > len(self.back) + 1:\n",
    "            self.back.insert(0, self.front.pop())\n",
    "        elif len(self.front) < len(self.back):\n",
    "            self.front.append(self.back.pop(0))\n"
   ]
  },
  {
   "cell_type": "code",
   "execution_count": 9,
   "id": "f30bd79e-fa30-4c5d-a446-79c8dfc0f537",
   "metadata": {},
   "outputs": [
    {
     "name": "stdout",
     "output_type": "stream",
     "text": [
      "4\n",
      "2\n",
      "1\n",
      "3\n",
      "-1\n"
     ]
    }
   ],
   "source": [
    "q = FrontMiddleBackQueue()\n",
    "q.pushFront(1)\n",
    "q.pushBack(2)\n",
    "q.pushMiddle(3)\n",
    "q.pushMiddle(4)\n",
    "print(q.popFront())    \n",
    "print(q.popMiddle())   \n",
    "print(q.popMiddle()) \n",
    "print(q.popBack())     \n",
    "print(q.popFront())    "
   ]
  },
  {
   "cell_type": "raw",
   "id": "ad30a7f2-87cc-4076-9463-36ec1d064803",
   "metadata": {},
   "source": [
    "Question 8\n",
    "For a stream of integers, implement a data structure that checks if the last `k` integers parsed in the stream are equal to `value`.\n",
    "Implement the DataStream class:\n",
    "- `DataStream(int value, int k)` Initializes the object with an empty integer stream and the two integers `value` and `k`.\n",
    "- `boolean consec(int num)` Adds `num` to the stream of integers. Returns `true` if the last `k` integers are equal to `value`, and `false` otherwise. If there are less than `k` integers, the condition does not hold true, so returns `false`.\n",
    "Example 1:\n",
    "Input\n",
    "[\"DataStream\", \"consec\", \"consec\", \"consec\", \"consec\"]\n",
    "[[4, 3], [4], [4], [4], [3]]\n",
    "Output\n",
    "[null, false, false, true, false]\n",
    "\n",
    "Explanation\n",
    "DataStream dataStream = new DataStream(4, 3); //value = 4, k = 3\n",
    "dataStream.consec(4); // Only 1 integer is parsed, so returns False.\n",
    "dataStream.consec(4); // Only 2 integers are parsed.\n",
    "                      // Since 2 is less than k, returns False.\n",
    "dataStream.consec(4); // The 3 integers parsed are all equal to value, so returns True.\n",
    "dataStream.consec(3); // The last k integers parsed in the stream are [4,4,3].\n",
    "                      // Since 3 is not equal to value, it returns False."
   ]
  },
  {
   "cell_type": "code",
   "execution_count": 10,
   "id": "9fef0f7a-1a6e-4b4f-8554-510edccfe988",
   "metadata": {},
   "outputs": [],
   "source": [
    "class DataStream:\n",
    "    def __init__(self, value, k):\n",
    "        self.stream = []\n",
    "        self.value = value\n",
    "        self.k = k\n",
    "\n",
    "    def consec(self, num):\n",
    "        self.stream.append(num)\n",
    "        if len(self.stream) < self.k:\n",
    "            return False\n",
    "        return self.stream[-self.k:] == [self.value] * self.k"
   ]
  },
  {
   "cell_type": "code",
   "execution_count": null,
   "id": "f9a9cebc-26d6-4096-bce2-4fe95e644543",
   "metadata": {},
   "outputs": [],
   "source": [
    "dataStream = DataStream(4, 3)\n",
    "print(dataStream.consec(4))  # Output: False\n",
    "print(dataStream.consec(4))  \n",
    "print(dataStream.consec(4))  \n",
    "print(dataStream.consec(3))  "
   ]
  }
 ],
 "metadata": {
  "kernelspec": {
   "display_name": "Python 3 (ipykernel)",
   "language": "python",
   "name": "python3"
  },
  "language_info": {
   "codemirror_mode": {
    "name": "ipython",
    "version": 3
   },
   "file_extension": ".py",
   "mimetype": "text/x-python",
   "name": "python",
   "nbconvert_exporter": "python",
   "pygments_lexer": "ipython3",
   "version": "3.10.6"
  }
 },
 "nbformat": 4,
 "nbformat_minor": 5
}
