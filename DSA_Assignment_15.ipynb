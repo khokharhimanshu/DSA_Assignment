{
 "cells": [
  {
   "cell_type": "markdown",
   "id": "e511a9e8-151c-4eb8-865a-0f12e73c5cc3",
   "metadata": {},
   "source": [
    "# Assignment Question 15"
   ]
  },
  {
   "cell_type": "raw",
   "id": "f707ee98-333a-42f1-9ce2-01f27ba7b9bb",
   "metadata": {},
   "source": [
    "Question 1\n",
    "Given an array arr[ ] of size N having elements, the task is to find the next greater element for each element of the array in order of their appearance in the array.Next greater element of an element in the array is the nearest element on the right which is greater than the current element.If there does not exist next greater of current element, then next greater element for current element is -1. For example, next greater of the last element is always -1.\n",
    "Example 1:\n",
    "Input:\n",
    "N = 4, arr[] = [1 3 2 4]\n",
    "Output:\n",
    "3 4 4 -1\n",
    "Explanation:\n",
    "In the array, the next larger element\n",
    "to 1 is 3 , 3 is 4 , 2 is 4 and for 4 ?\n",
    "since it doesn't exist, it is -1.\n",
    "Example 2:\n",
    "Input:\n",
    "N = 5, arr[] [6 8 0 1 3]\n",
    "Output:\n",
    "8 -1 1 3 -1\n",
    "Explanation:\n",
    "In the array, the next larger element to\n",
    "6 is 8, for 8 there is no larger elements\n",
    "hence it is -1, for 0 it is 1 , for 1 it\n",
    "is 3 and then for 3 there is no larger\n",
    "element on right and hence -1."
   ]
  },
  {
   "cell_type": "code",
   "execution_count": 1,
   "id": "01ea3f08-bc65-428c-98b4-e11c4a095563",
   "metadata": {},
   "outputs": [
    {
     "name": "stdout",
     "output_type": "stream",
     "text": [
      "[3, 4, 4, -1]\n"
     ]
    }
   ],
   "source": [
    "def findNextGreaterElements(arr, N):\n",
    "    stack = []\n",
    "    result = [-1] * N\n",
    "    \n",
    "    for i in range(N-1, -1, -1):\n",
    "        while stack and stack[-1] <= arr[i]:\n",
    "            stack.pop()\n",
    "        \n",
    "        if stack:\n",
    "            result[i] = stack[-1]\n",
    "        \n",
    "        stack.append(arr[i])\n",
    "    \n",
    "    return result\n",
    "\n",
    "arr = [1, 3, 2, 4]\n",
    "N = len(arr)\n",
    "output = findNextGreaterElements(arr, N)\n",
    "print(output)  "
   ]
  },
  {
   "cell_type": "raw",
   "id": "776ba440-0416-41bb-aeb1-624f004c51bc",
   "metadata": {},
   "source": [
    "Question 2\n",
    "Given an array a of integers of length n, find the nearest smaller number for every element such that the smaller element is on left side.If no small element present on the left print -1.\n",
    "Example 1:\n",
    "Input: n = 3\n",
    "a = {1, 6, 2}\n",
    "Output: -1 1 1\n",
    "Explaination: There is no number at the\n",
    "left of 1. Smaller number than 6 and 2 is 1.\n",
    "Example 2:\n",
    "Input: n = 6\n",
    "a = {1, 5, 0, 3, 4, 5}\n",
    "Output: -1 1 -1 0 3 4\n",
    "Explaination: Upto 3 it is easy to see\n",
    "the smaller numbers. But for 4 the smaller\n",
    "numbers are 1, 0 and 3. But among them 3\n",
    "is closest. Similary for 5 it is 4."
   ]
  },
  {
   "cell_type": "code",
   "execution_count": 2,
   "id": "f6ba88d3-0f43-4a2d-822f-583630b13111",
   "metadata": {},
   "outputs": [
    {
     "name": "stdout",
     "output_type": "stream",
     "text": [
      "[-1, 1, 1]\n"
     ]
    }
   ],
   "source": [
    "def findNearestSmallerNumbers(a, n):\n",
    "    stack = []\n",
    "    result = []\n",
    "    \n",
    "    for i in range(n):\n",
    "        while stack and stack[-1] >= a[i]:\n",
    "            stack.pop()\n",
    "        \n",
    "        if stack:\n",
    "            result.append(stack[-1])\n",
    "        else:\n",
    "            result.append(-1)\n",
    "        \n",
    "        stack.append(a[i])\n",
    "    \n",
    "    return result\n",
    "\n",
    "a = [1, 6, 2]\n",
    "n = len(a)\n",
    "output = findNearestSmallerNumbers(a, n)\n",
    "print(output)  "
   ]
  },
  {
   "cell_type": "raw",
   "id": "3a012dc4-057e-49f2-bf67-6a4a83c6186c",
   "metadata": {},
   "source": [
    "Question 3\n",
    "Implement a Stack using two queues q1 and q2.\n",
    "Example 1:\n",
    "Input:\n",
    "push(2)\n",
    "push(3)\n",
    "pop()\n",
    "push(4)\n",
    "pop()\n",
    "Output:3 4\n",
    "Explanation:\n",
    "push(2) the stack will be {2}\n",
    "push(3) the stack will be {2 3}\n",
    "pop()   poped element will be 3 the\n",
    "        stack will be {2}\n",
    "push(4) the stack will be {2 4}\n",
    "pop()   poped element will be 4\n",
    "Example 2:\n",
    "Input:\n",
    "push(2)\n",
    "pop()\n",
    "pop()\n",
    "push(3)\n",
    "Output:2 -1"
   ]
  },
  {
   "cell_type": "code",
   "execution_count": 3,
   "id": "5abd82f0-3ec7-44be-9f32-ee219b28b89d",
   "metadata": {},
   "outputs": [
    {
     "name": "stdout",
     "output_type": "stream",
     "text": [
      "3\n",
      "4\n",
      "2\n",
      "-1\n",
      "3\n"
     ]
    }
   ],
   "source": [
    "from queue import Queue\n",
    "\n",
    "class Stack:\n",
    "    def __init__(self):\n",
    "        self.q1 = Queue()\n",
    "        self.q2 = Queue()\n",
    "    \n",
    "    def push(self, element):\n",
    "        self.q1.put(element)\n",
    "    \n",
    "    def pop(self):\n",
    "        if self.q1.empty():\n",
    "            return -1\n",
    "        \n",
    "        while self.q1.qsize() > 1:\n",
    "            self.q2.put(self.q1.get())\n",
    "        \n",
    "        popped_element = self.q1.get()\n",
    "        \n",
    "        self.q1, self.q2 = self.q2, self.q1\n",
    "        \n",
    "        return popped_element\n",
    "    \n",
    "    def top(self):\n",
    "        if self.q1.empty():\n",
    "            return -1\n",
    "        \n",
    "        while self.q1.qsize() > 1:\n",
    "            self.q2.put(self.q1.get())\n",
    "        \n",
    "        top_element = self.q1.get()\n",
    "        self.q2.put(top_element)\n",
    "        \n",
    "        self.q1, self.q2 = self.q2, self.q1\n",
    "        \n",
    "        return top_element\n",
    "    \n",
    "    def empty(self):\n",
    "        return self.q1.empty()\n",
    "\n",
    "stack = Stack()\n",
    "stack.push(2)\n",
    "stack.push(3)\n",
    "print(stack.pop()) \n",
    "stack.push(4)\n",
    "print(stack.pop()) \n",
    "stack = Stack()\n",
    "stack.push(2)\n",
    "print(stack.pop())  \n",
    "print(stack.pop())  \n",
    "stack.push(3)\n",
    "print(stack.top())  "
   ]
  },
  {
   "cell_type": "raw",
   "id": "9038b6ae-00b9-451d-8890-6ac81b1c01a8",
   "metadata": {},
   "source": [
    "Question 4\n",
    "You are given a stack St. You have to reverse the stack using recursion.\n",
    "Example 1:\n",
    "Input:St = {3,2,1,7,6}\n",
    "Output:{6,7,1,2,3}\n",
    "Example 2:\n",
    "Input:St = {4,3,9,6}\n",
    "Output:{6,9,3,4}"
   ]
  },
  {
   "cell_type": "code",
   "execution_count": 4,
   "id": "fe8910e9-1c37-4a33-beaa-c2bc84bfdea7",
   "metadata": {},
   "outputs": [
    {
     "name": "stdout",
     "output_type": "stream",
     "text": [
      "[6, 7, 1, 2, 3]\n",
      "[6, 9, 3, 4]\n"
     ]
    }
   ],
   "source": [
    "def reverseStack(St):\n",
    "    if len(St) <= 1:\n",
    "        return St\n",
    "    \n",
    "    top_element = St.pop()\n",
    "    reversed_stack = reverseStack(St)\n",
    "    insertAtBottom(reversed_stack, top_element)\n",
    "    return reversed_stack\n",
    "\n",
    "def insertAtBottom(St, element):\n",
    "    if len(St) == 0:\n",
    "        St.append(element)\n",
    "        return\n",
    "    \n",
    "    top_element = St.pop()\n",
    "    insertAtBottom(St, element)\n",
    "    St.append(top_element)\n",
    "\n",
    "St = [3, 2, 1, 7, 6]\n",
    "reversed_St = reverseStack(St)\n",
    "print(reversed_St)  \n",
    "\n",
    "St = [4, 3, 9, 6]\n",
    "reversed_St = reverseStack(St)\n",
    "print(reversed_St)  "
   ]
  },
  {
   "cell_type": "raw",
   "id": "9d09d549-3812-4a2a-96bd-61d658dd8a36",
   "metadata": {},
   "source": [
    "Question 5\n",
    "You are given a string S, the task is to reverse the string using stack.\n",
    "Example 1:\n",
    "Input: S=\"GeeksforGeeks\"\n",
    "Output: skeeGrofskeeG"
   ]
  },
  {
   "cell_type": "code",
   "execution_count": 5,
   "id": "9e213789-be0d-4dc2-991a-3dc5d1e5e424",
   "metadata": {},
   "outputs": [
    {
     "name": "stdout",
     "output_type": "stream",
     "text": [
      "skeeGrofskeeG\n"
     ]
    }
   ],
   "source": [
    "def reverseString(S):\n",
    "    stack = []\n",
    "    reversed_string = \"\"\n",
    "    \n",
    "    for char in S:\n",
    "        stack.append(char)\n",
    "    \n",
    "    while stack:\n",
    "        reversed_string += stack.pop()\n",
    "    \n",
    "    return reversed_string\n",
    "S = \"GeeksforGeeks\"\n",
    "reversed_S = reverseString(S)\n",
    "print(reversed_S)  "
   ]
  },
  {
   "cell_type": "raw",
   "id": "522a4a5d-bb46-4b46-ac8e-79f91b10e61f",
   "metadata": {},
   "source": [
    "Question 6\n",
    "Given string S representing a postfix expression, the task is to evaluate the expression and find the final value. Operators will only include the basic arithmetic operators like , /, + and -.\n",
    "Example 1:\n",
    "Input: S = \"231*+9-\"\n",
    "Output: -4\n",
    "Explanation:\n",
    "After solving the given expression,\n",
    "we have -4 as result."
   ]
  },
  {
   "cell_type": "code",
   "execution_count": 6,
   "id": "dcff8b67-5e8d-437e-bea4-01d9047741be",
   "metadata": {},
   "outputs": [
    {
     "name": "stdout",
     "output_type": "stream",
     "text": [
      "-4\n"
     ]
    }
   ],
   "source": [
    "def evaluatePostfixExpression(S):\n",
    "    stack = []\n",
    "    \n",
    "    for char in S:\n",
    "        if char.isdigit():\n",
    "            stack.append(int(char))\n",
    "        else:\n",
    "            operand2 = stack.pop()\n",
    "            operand1 = stack.pop()\n",
    "            \n",
    "            if char == '+':\n",
    "                result = operand1 + operand2\n",
    "            elif char == '-':\n",
    "                result = operand1 - operand2\n",
    "            elif char == '*':\n",
    "                result = operand1 * operand2\n",
    "            elif char == '/':\n",
    "                result = operand1 / operand2\n",
    "            \n",
    "            stack.append(result)\n",
    "    \n",
    "    return stack.pop()\n",
    "\n",
    "S = \"231*+9-\"\n",
    "result = evaluatePostfixExpression(S)\n",
    "print(result)  "
   ]
  },
  {
   "cell_type": "raw",
   "id": "8f60ba65-d23d-4a7e-895f-bd9353af5298",
   "metadata": {},
   "source": [
    "Question 7\n",
    "Design a stack that supports push, pop, top, and retrieving the minimum element in constant time.\n",
    "Implement the `MinStack` class:\n",
    "- `MinStack()` initializes the stack object.\n",
    "- `void push(int val)` pushes the element `val` onto the stack.\n",
    "- `void pop()` removes the element on the top of the stack.\n",
    "- `int top()` gets the top element of the stack.\n",
    "- `int getMin()` retrieves the minimum element in the stack.\n",
    "You must implement a solution with `O(1)` time complexity for each function.\n",
    "Example 1:\n",
    "Input\n",
    "[\"MinStack\",\"push\",\"push\",\"push\",\"getMin\",\"pop\",\"top\",\"getMin\"]\n",
    "[[],[-2],[0],[-3],[],[],[],[]]\n",
    "\n",
    "Output\n",
    "[null,null,null,null,-3,null,0,-2]\n",
    "\n",
    "Explanation\n",
    "MinStack minStack = new MinStack();\n",
    "minStack.push(-2);\n",
    "minStack.push(0);\n",
    "minStack.push(-3);\n",
    "minStack.getMin(); // return -3\n",
    "minStack.pop();\n",
    "minStack.top();    // return 0\n",
    "minStack.getMin(); // return -2"
   ]
  },
  {
   "cell_type": "code",
   "execution_count": 8,
   "id": "54935828-847d-4488-a2ec-f5cf109cd6fa",
   "metadata": {},
   "outputs": [],
   "source": [
    "class MinStack:\n",
    "    def __init__(self):\n",
    "        self.stack = []\n",
    "        self.min_stack = []\n",
    "    \n",
    "    def push(self, val):\n",
    "        self.stack.append(val)\n",
    "        if not self.min_stack or val <= self.min_stack[-1]:\n",
    "            self.min_stack.append(val)\n",
    "    \n",
    "    def pop(self):\n",
    "        if self.stack:\n",
    "            val = self.stack.pop()\n",
    "            if val == self.min_stack[-1]:\n",
    "                self.min_stack.pop()\n",
    "    \n",
    "    def top(self):\n",
    "        if self.stack:\n",
    "            return self.stack[-1]\n",
    "    \n",
    "    def getMin(self):\n",
    "        if self.min_stack:\n",
    "            return self.min_stack[-1]\n"
   ]
  },
  {
   "cell_type": "code",
   "execution_count": 9,
   "id": "6f83d819-3ff2-4f12-a849-1bc76dcfd370",
   "metadata": {},
   "outputs": [
    {
     "name": "stdout",
     "output_type": "stream",
     "text": [
      "-3\n",
      "0\n",
      "-2\n"
     ]
    }
   ],
   "source": [
    "minStack = MinStack()\n",
    "minStack.push(-2)\n",
    "minStack.push(0)\n",
    "minStack.push(-3)\n",
    "print(minStack.getMin())  \n",
    "minStack.pop()\n",
    "print(minStack.top())    \n",
    "print(minStack.getMin())  "
   ]
  },
  {
   "cell_type": "raw",
   "id": "1172f838-1707-49ce-a711-14edde4fc563",
   "metadata": {},
   "source": [
    "Question 8\n",
    "Given `n` non-negative integers representing an elevation map where the width of each bar is `1`, compute how much water it can trap after raining.\n",
    "Example 1:\n",
    "Input: height = [0,1,0,2,1,0,1,3,2,1,2,1]\n",
    "Output: 6\n",
    "Explanation: The above elevation map (black section) is represented by array [0,1,0,2,1,0,1,3,2,1,2,1]. In this case, 6 units of rain water (blue section) are being trapped.\n",
    "Example 2:\n"
   ]
  }
 ],
 "metadata": {
  "kernelspec": {
   "display_name": "Python 3 (ipykernel)",
   "language": "python",
   "name": "python3"
  },
  "language_info": {
   "codemirror_mode": {
    "name": "ipython",
    "version": 3
   },
   "file_extension": ".py",
   "mimetype": "text/x-python",
   "name": "python",
   "nbconvert_exporter": "python",
   "pygments_lexer": "ipython3",
   "version": "3.10.6"
  }
 },
 "nbformat": 4,
 "nbformat_minor": 5
}
