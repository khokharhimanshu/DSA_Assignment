{
 "cells": [
  {
   "cell_type": "markdown",
   "id": "fbc4697e-0685-47d4-ab85-5a667a467a8c",
   "metadata": {},
   "source": [
    "# Assignment Questions 4 "
   ]
  },
  {
   "cell_type": "raw",
   "id": "815c4db6-b5d9-4877-aa18-300772f60138",
   "metadata": {},
   "source": [
    "Question 1\n",
    "Given three integer arrays arr1, arr2 and arr3 sorted in strictly increasing order, return a sorted array of only the integers that appeared in all three arrays.\n",
    "\n",
    "Example 1:\n",
    "\n",
    "Input: arr1 = [1,2,3,4,5], arr2 = [1,2,5,7,9], arr3 = [1,3,4,5,8]\n",
    "\n",
    "Output: [1,5]\n",
    "\n",
    "Explanation: Only 1 and 5 appeared in the three arrays."
   ]
  },
  {
   "cell_type": "code",
   "execution_count": 2,
   "id": "21803b4c-fe29-43e6-b0b2-29c738dbcedf",
   "metadata": {},
   "outputs": [],
   "source": [
    "def threeSumClosest(nums, target):\n",
    "    nums = list(nums)\n",
    "    nums.sort()  \n",
    "    closest_sum = float('inf')  \n",
    "    \n",
    "    for i in range(len(nums) - 2):\n",
    "        left = i + 1\n",
    "        right = len(nums) - 1\n",
    "\n",
    "        while left < right:\n",
    "            curr_sum = nums[i] + nums[left] + nums[right]\n",
    "            if curr_sum == target:\n",
    "                return curr_sum\n",
    "\n",
    "            if abs(curr_sum - target) < abs(closest_sum - target):\n",
    "                closest_sum = curr_sum\n",
    "\n",
    "            if curr_sum < target:\n",
    "                left += 1\n",
    "            else:\n",
    "                right -= 1\n",
    "\n",
    "    return closest_sum if closest_sum != float('inf') else 0"
   ]
  },
  {
   "cell_type": "code",
   "execution_count": 3,
   "id": "967195d6-f86f-4c2e-a4c1-93f41d59cebc",
   "metadata": {},
   "outputs": [
    {
     "data": {
      "text/plain": [
       "3"
      ]
     },
     "execution_count": 3,
     "metadata": {},
     "output_type": "execute_result"
    }
   ],
   "source": [
    "#example usage1\n",
    "\n",
    "nums = [2,1,3,-4,5]\n",
    "target = 3\n",
    "threeSumClosest(nums,target)"
   ]
  },
  {
   "cell_type": "raw",
   "id": "77e26a54-128f-48a8-ae6b-39bd8c53b573",
   "metadata": {},
   "source": [
    "Question 2\n",
    "\n",
    "Given two 0-indexed integer arrays nums1 and nums2, return a list answer of size 2 where:\n",
    "\n",
    "- answer[0] is a list of all distinct integers in nums1 which are not present in nums2.\n",
    "- answer[1] is a list of all distinct integers in nums2 which are not present in nums1.\n",
    "\n",
    "Note that the integers in the lists may be returned in any order.\n",
    "\n",
    "Example 1:\n",
    "\n",
    "Input: nums1 = [1,2,3], nums2 = [2,4,6]\n",
    "\n",
    "Output: [[1,3],[4,6]]\n",
    "\n",
    "Explanation:\n",
    "\n",
    "For nums1, nums1[1] = 2 is present at index 0 of nums2, whereas nums1[0] = 1 and nums1[2] = 3 are not present in nums2. Therefore, answer[0] = [1,3].\n",
    "\n",
    "For nums2, nums2[0] = 2 is present at index 1 of nums1, whereas nums2[1] = 4 and nums2[2] = 6 are not present in nums2. Therefore, answer[1] = [4,6].\n"
   ]
  },
  {
   "cell_type": "code",
   "execution_count": 4,
   "id": "60b69578-fc6e-4d94-a7b9-7b3ff5eaf94e",
   "metadata": {},
   "outputs": [],
   "source": [
    "from typing import List\n",
    "\n",
    "def fourSum(nums: List[int], target: int) -> List[List[int]]:\n",
    "    ans = list()\n",
    "    nums.sort()\n",
    "    \n",
    "    for i in range(len(nums)):    \n",
    "        for j in range(i+1, len(nums)):\n",
    "            left, right = j+1, len(nums)-1\n",
    "            \n",
    "            while left < right:\n",
    "                \n",
    "                num_sum = nums[i] + nums[j] + nums[left] + nums[right]\n",
    "                \n",
    "                sub_arr = [nums[i], nums[j], nums[left], nums[right]]\n",
    "                \n",
    "                if num_sum == target and sub_arr not in ans:\n",
    "                    ans.append(sub_arr)\n",
    "                    right -= 1\n",
    "                    left += 1\n",
    "                    \n",
    "                elif num_sum > target:\n",
    "                    right -= 1\n",
    "                \n",
    "                else:\n",
    "                    left += 1\n",
    "                    \n",
    "    return ans"
   ]
  },
  {
   "cell_type": "code",
   "execution_count": 5,
   "id": "31aef998-5f8a-48b0-a018-d9dcc5dde1c5",
   "metadata": {},
   "outputs": [
    {
     "data": {
      "text/plain": [
       "[[-2, -1, 1, 2], [-2, 0, 0, 2], [-1, 0, 0, 1]]"
      ]
     },
     "execution_count": 5,
     "metadata": {},
     "output_type": "execute_result"
    }
   ],
   "source": [
    "nums = [1,0,-1,0,-2,2]\n",
    "target = 0\n",
    "fourSum(nums, target)"
   ]
  },
  {
   "cell_type": "raw",
   "id": "e4ea2686-f8da-42bd-a48f-10efb4d02ae5",
   "metadata": {},
   "source": [
    "Question 3\n",
    "Given a 2D integer array matrix, return the transpose of matrix.\n",
    "\n",
    "The transpose of a matrix is the matrix flipped over its main diagonal, switching the matrix's row and column indices.\n",
    "\n",
    "Example 1:\n",
    "\n",
    "Input: matrix = [[1,2,3],[4,5,6],[7,8,9]]\n",
    "\n",
    "Output: [[1,4,7],[2,5,8],[3,6,9]]\n"
   ]
  },
  {
   "cell_type": "code",
   "execution_count": 6,
   "id": "855c0332-d258-4078-a757-a3469d78f01d",
   "metadata": {},
   "outputs": [],
   "source": [
    "from typing import List\n",
    "\n",
    "def permutation(nums: List[int]) -> List[int]:\n",
    "    \n",
    "    if len(set(nums)) == 1:\n",
    "        return nums\n",
    "    \n",
    "    for i in range(len(nums)-1,0,-1):\n",
    "        if nums[i] > nums[i-1]:\n",
    "            nums[i-1], nums[i] = nums[i], nums[i-1]\n",
    "            return nums\n",
    "    return sorted(nums)"
   ]
  },
  {
   "cell_type": "code",
   "execution_count": 7,
   "id": "0445ee7a-7e0c-49de-81c8-2975e0f142b3",
   "metadata": {},
   "outputs": [
    {
     "name": "stdout",
     "output_type": "stream",
     "text": [
      "[0, 1, 2, 3]\n"
     ]
    }
   ],
   "source": [
    "nums = [3,2,1,0]\n",
    "ans = permutation(nums)\n",
    "print(ans)"
   ]
  },
  {
   "cell_type": "raw",
   "id": "2419805f-b96b-4a62-b4a4-7274eb3c81a9",
   "metadata": {},
   "source": [
    "Question 4\n",
    "Given an integer array nums of 2n integers, group these integers into n pairs (a1, b1), (a2, b2), ..., (an, bn) such that the sum of min(ai, bi) for all i is maximized. Return the maximized sum.\n",
    "\n",
    "Example 1:\n",
    "\n",
    "Input: nums = [1,4,3,2]\n",
    "\n",
    "Output: 4\n",
    "\n",
    "Explanation: All possible pairings (ignoring the ordering of elements) are:\n",
    "\n",
    "1. (1, 4), (2, 3) -> min(1, 4) + min(2, 3) = 1 + 2 = 3\n",
    "\n",
    "2. (1, 3), (2, 4) -> min(1, 3) + min(2, 4) = 1 + 2 = 3\n",
    "\n",
    "3. (1, 2), (3, 4) -> min(1, 2) + min(3, 4) = 1 + 3 = 4\n",
    "\n",
    "So the maximum possible sum is 4."
   ]
  },
  {
   "cell_type": "code",
   "execution_count": 8,
   "id": "9d00ef31-4071-4ee4-9fc0-10413181e689",
   "metadata": {},
   "outputs": [],
   "source": [
    "def binary_search(nums: list, target: int):\n",
    "    \n",
    "    if len(nums) == 0:\n",
    "        return -1\n",
    "    \n",
    "    # Initializing left index\n",
    "    left = 0\n",
    "    \n",
    "    # Initializing right index\n",
    "    right = len(nums) - 1\n",
    "    \n",
    "    while left <= right:\n",
    "    \n",
    "        mid = (left + right) // 2\n",
    "        \n",
    "        if target == nums[mid]:\n",
    "            return mid\n",
    "        \n",
    "        elif target < nums[mid]:\n",
    "            right = mid - 1\n",
    "        \n",
    "        elif target > nums[mid]:\n",
    "            left = mid + 1\n",
    "    \n",
    "    return left"
   ]
  },
  {
   "cell_type": "code",
   "execution_count": 9,
   "id": "24c8c01e-1bfa-4402-b4da-b47a794c76df",
   "metadata": {},
   "outputs": [
    {
     "data": {
      "text/plain": [
       "2"
      ]
     },
     "execution_count": 9,
     "metadata": {},
     "output_type": "execute_result"
    }
   ],
   "source": [
    "nums = [1,3,5,6]\n",
    "target = 4\n",
    "binary_search(nums, target)"
   ]
  },
  {
   "cell_type": "raw",
   "id": "f4450e69-a8f5-4fd8-8dd4-cc96e4bfffd9",
   "metadata": {},
   "source": [
    "Question 5 .\n",
    "\n",
    "You are given a large integer represented as an integer array digits, where each digits[i] is the ith digit of the integer. The digits are ordered from most significant to least significant in left-to-right order. The large integer does not contain any leading 0's.\n",
    "\n",
    "Increment the large integer by one and return the resulting array of digits.\n",
    "\n",
    "Example 1: Input: digits = [1,2,3] Output: [1,2,4]\n",
    "\n",
    "Explanation: The array represents the integer 123. Incrementing by one gives 123 + 1 = 124. Thus, the result should be [1,2,4]."
   ]
  },
  {
   "cell_type": "code",
   "execution_count": 11,
   "id": "dbfb2628-a55d-4381-88d5-ebe942eca7dd",
   "metadata": {},
   "outputs": [],
   "source": [
    "def addOne(nums: List[int]) -> List[int]:\n",
    "    number = int(''.join(map(str, nums))) + 1\n",
    "    return [int(i) for i in str(number)]"
   ]
  },
  {
   "cell_type": "code",
   "execution_count": 12,
   "id": "add9a20a-7e5e-41ac-9dac-eae8f74ea6d4",
   "metadata": {},
   "outputs": [
    {
     "data": {
      "text/plain": [
       "[1, 3, 0]"
      ]
     },
     "execution_count": 12,
     "metadata": {},
     "output_type": "execute_result"
    }
   ],
   "source": [
    "addOne([1,2,9])"
   ]
  },
  {
   "cell_type": "raw",
   "id": "99fe49c5-7c0e-4b9f-89b0-3e520e078d5e",
   "metadata": {},
   "source": [
    "Question 6\n",
    "Given a non-empty array of integers nums, every element appears twice except for one. Find that single one.\n",
    "You must implement a solution with a linear runtime complexity and use only constant extra space.\n",
    "Example 1: Input: nums = [2,2,1] Output: 1"
   ]
  },
  {
   "cell_type": "code",
   "execution_count": 13,
   "id": "464a9e57-02ee-470e-8e93-ef7d24e8ae16",
   "metadata": {},
   "outputs": [],
   "source": [
    "def find_single(nums):\n",
    "\n",
    "    # XOR all the elements in the array.\n",
    "    result = 0\n",
    "    for num in nums:\n",
    "        result ^= num\n",
    "\n",
    "    return result"
   ]
  },
  {
   "cell_type": "code",
   "execution_count": 14,
   "id": "6392155c-0195-4f71-b32a-82ed584867af",
   "metadata": {},
   "outputs": [
    {
     "data": {
      "text/plain": [
       "4"
      ]
     },
     "execution_count": 14,
     "metadata": {},
     "output_type": "execute_result"
    }
   ],
   "source": [
    "find_single([2,2,3,3,4])"
   ]
  },
  {
   "cell_type": "raw",
   "id": "370989e1-4e80-4d4e-8032-4aa3e0a0f8af",
   "metadata": {},
   "source": [
    "Question 7\n",
    "\n",
    "You are given an inclusive range [lower, upper] and a sorted unique integer array nums, where all elements are within the inclusive range.\n",
    "\n",
    "A number x is considered missing if x is in the range [lower, upper] and x is not in nums.\n",
    "\n",
    "Return the shortest sorted list of ranges that exactly covers all the missing numbers. That is, no element of nums is included in any of the ranges, and each missing number is covered by one of the ranges.\n",
    "\n",
    "Example 1: Input: nums = [0,1,3,50,75], lower = 0, upper = 99 Output: [[2,2],[4,49],[51,74],[76,99]]\n",
    "\n",
    "Explanation: The ranges are: [2,2] [4,49] [51,74] [76,99]"
   ]
  },
  {
   "cell_type": "code",
   "execution_count": 15,
   "id": "7deff132-b273-4138-83ea-d98725031c8d",
   "metadata": {},
   "outputs": [],
   "source": [
    "from typing import List\n",
    "\n",
    "def missingRange(nums: List[int], lower: int, upper: int) -> List[List[int]]:\n",
    "    \n",
    "    result = list()\n",
    "    \n",
    "    for i in range(1, len(nums)): \n",
    "        if nums[i]-nums[i-1] != 1:\n",
    "            result.append([nums[i-1]+1, nums[i]-1])\n",
    "            \n",
    "        if i == len(nums)-1 and nums[i]<upper:\n",
    "            result.append([nums[i]+1, upper])\n",
    "    \n",
    "    return result"
   ]
  },
  {
   "cell_type": "code",
   "execution_count": 16,
   "id": "2571f4ef-1942-47a3-919d-1ec0fd8e0277",
   "metadata": {},
   "outputs": [
    {
     "data": {
      "text/plain": [
       "[[2, 2], [4, 49], [51, 74], [76, 99]]"
      ]
     },
     "execution_count": 16,
     "metadata": {},
     "output_type": "execute_result"
    }
   ],
   "source": [
    "nums = [0,1,3,50,75]\n",
    "lower = 0\n",
    "upper = 99\n",
    "missingRange(nums, lower, upper)"
   ]
  },
  {
   "cell_type": "raw",
   "id": "b322a45d-a130-4b04-9143-6c28c975ac0f",
   "metadata": {},
   "source": [
    "Question 8\n",
    "Given an array of meeting time intervals where intervals[i] = [starti, endi], determine if a person could attend all meetings.\n",
    "Example 1: Input: intervals = [[0,30],[5,10],[15,20]] Output: false"
   ]
  },
  {
   "cell_type": "code",
   "execution_count": null,
   "id": "6b1fe855-dd41-4c57-afe6-3544666da64d",
   "metadata": {},
   "outputs": [],
   "source": []
  }
 ],
 "metadata": {
  "kernelspec": {
   "display_name": "Python 3 (ipykernel)",
   "language": "python",
   "name": "python3"
  },
  "language_info": {
   "codemirror_mode": {
    "name": "ipython",
    "version": 3
   },
   "file_extension": ".py",
   "mimetype": "text/x-python",
   "name": "python",
   "nbconvert_exporter": "python",
   "pygments_lexer": "ipython3",
   "version": "3.10.6"
  }
 },
 "nbformat": 4,
 "nbformat_minor": 5
}
