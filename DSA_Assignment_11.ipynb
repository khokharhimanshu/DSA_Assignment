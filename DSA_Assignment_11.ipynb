{
 "cells": [
  {
   "cell_type": "markdown",
   "id": "c76fa8d9-d0c0-4f10-b00d-33697b4ef00f",
   "metadata": {},
   "source": [
    "# Assignment Question 11"
   ]
  },
  {
   "cell_type": "raw",
   "id": "af2c0975-cb0f-4f75-a0c9-13b8652cdca9",
   "metadata": {},
   "source": [
    "Question 1\n",
    "Given a non-negative integer `x`, return the square root of `x` rounded down to the nearest integer. The returned integer should be non-negative as well.\n",
    "You must not use any built-in exponent function or operator.\n",
    "- For example, do not use `pow(x, 0.5)` in c++ or `x  0.5` in python.\n",
    "Example 1:\n",
    "Input: x = 4\n",
    "Output: 2\n",
    "Explanation: The square root of 4 is 2, so we return 2.\n",
    "Input: x = 8\n",
    "Output: 2\n",
    "Explanation: The square root of 8 is 2.82842..., and since we round it down to the nearest integer, 2 is returned."
   ]
  },
  {
   "cell_type": "code",
   "execution_count": 1,
   "id": "c46166ac-63ad-4dcf-9953-741de6f8c7bc",
   "metadata": {},
   "outputs": [],
   "source": [
    "def mySqrt(x):\n",
    "    if x == 0:\n",
    "        return 0\n",
    "\n",
    "    left, right = 1, x\n",
    "    while left <= right:\n",
    "        mid = left + (right - left) // 2\n",
    "        if mid * mid == x:\n",
    "            return mid\n",
    "        elif mid * mid > x:\n",
    "            right = mid - 1\n",
    "        else:\n",
    "            left = mid + 1\n",
    "\n",
    "    return right"
   ]
  },
  {
   "cell_type": "raw",
   "id": "0063087f-c7fb-451b-abb1-16669697ae17",
   "metadata": {},
   "source": [
    "Question 2\n",
    "A peak element is an element that is strictly greater than its neighbors.\n",
    "Given a 0-indexed integer array `nums`, find a peak element, and return its index. If the array contains multiple peaks, return the index to any of the peaks.\n",
    "You may imagine that `nums[-1] = nums[n] = -∞`. In other words, an element is always considered to be strictly greater than a neighbor that is outside the array.\n",
    "You must write an algorithm that runs in `O(log n)` time.\n",
    "Example 1:\n",
    "Input: nums = [1,2,3,1]\n",
    "Output: 2\n",
    "Explanation: 3 is a peak element and your function should return the index number 2.\n",
    "Example: 2\n",
    "Input: nums = [1,2,1,3,5,6,4]\n",
    "Output: 5\n",
    "Explanation: Your function can return either index number 1 where the peak element is 2, or index number 5 where the peak element is 6."
   ]
  },
  {
   "cell_type": "code",
   "execution_count": 2,
   "id": "c43c59be-ba2f-432e-b63c-5a3d591e9932",
   "metadata": {},
   "outputs": [],
   "source": [
    "def findPeakElement(nums):\n",
    "    left, right = 0, len(nums) - 1\n",
    "    while left <= right:\n",
    "        mid = (left + right) // 2\n",
    "        if (mid == 0 or nums[mid] > nums[mid-1]) and (mid == len(nums)-1 or nums[mid] > nums[mid+1]):\n",
    "            return mid\n",
    "        elif mid > 0 and nums[mid-1] > nums[mid]:\n",
    "            right = mid - 1\n",
    "        else:\n",
    "            left = mid + 1\n",
    "    return -1"
   ]
  },
  {
   "cell_type": "code",
   "execution_count": 3,
   "id": "1ca8559f-d090-4fbc-996c-0a4b074ca033",
   "metadata": {},
   "outputs": [
    {
     "name": "stdout",
     "output_type": "stream",
     "text": [
      "2\n"
     ]
    }
   ],
   "source": [
    "nums = [1, 2, 3, 1]\n",
    "peak_index = findPeakElement(nums)\n",
    "print(peak_index)  "
   ]
  },
  {
   "cell_type": "code",
   "execution_count": 4,
   "id": "6c34c907-1253-4b6f-a9dc-d3eb95e26ac9",
   "metadata": {},
   "outputs": [
    {
     "name": "stdout",
     "output_type": "stream",
     "text": [
      "5\n"
     ]
    }
   ],
   "source": [
    "nums = [1, 2, 1, 3, 5, 6, 4]\n",
    "peak_index = findPeakElement(nums)\n",
    "print(peak_index)  "
   ]
  },
  {
   "cell_type": "raw",
   "id": "7fcab740-9655-430b-9c92-d50e83958c07",
   "metadata": {},
   "source": [
    "Question 3\n",
    "Given an array `nums` containing `n` distinct numbers in the range `[0, n]`, return the only number in the range that is missing from the array.\n",
    "Example 1:\n",
    "Input: nums = [3,0,1]\n",
    "Output: 2\n",
    "Explanation: n = 3 since there are 3 numbers, so all numbers are in the range [0,3]. 2 is the missing number in the range since it does not appear in nums.\n",
    "Example 2:\n",
    "Input: nums = [0,1]\n",
    "Output: 2\n",
    "Explanation: n = 2 since there are 2 numbers, so all numbers are in the range [0,2]. 2 is the missing number in the range since it does not appear in nums."
   ]
  },
  {
   "cell_type": "code",
   "execution_count": 5,
   "id": "0b3ddfa6-0c28-4133-ba3d-072b22428fc9",
   "metadata": {},
   "outputs": [],
   "source": [
    "def missingNumber(nums):\n",
    "    n = len(nums)\n",
    "    missing = n\n",
    "    \n",
    "    for i in range(n):\n",
    "        missing ^= i ^ nums[i]\n",
    "    \n",
    "    return missing"
   ]
  },
  {
   "cell_type": "code",
   "execution_count": 6,
   "id": "10f0550f-bdf8-4033-b319-aa1c523097d1",
   "metadata": {},
   "outputs": [
    {
     "name": "stdout",
     "output_type": "stream",
     "text": [
      "2\n"
     ]
    }
   ],
   "source": [
    "nums = [3, 0, 1]\n",
    "missing = missingNumber(nums)\n",
    "print(missing)  "
   ]
  },
  {
   "cell_type": "code",
   "execution_count": 7,
   "id": "5ce2d957-faf3-43b2-aef9-9964684b5edf",
   "metadata": {},
   "outputs": [
    {
     "name": "stdout",
     "output_type": "stream",
     "text": [
      "2\n"
     ]
    }
   ],
   "source": [
    "nums = [0, 1]\n",
    "missing = missingNumber(nums)\n",
    "print(missing)  "
   ]
  },
  {
   "cell_type": "raw",
   "id": "3e599cf8-8287-4d8f-8316-2817d117feac",
   "metadata": {},
   "source": [
    "Question 4\n",
    "Given an array of integers `nums` containing `n + 1` integers where each integer is in the range `[1, n]` inclusive.\n",
    "There is only one repeated number in `nums`, return this repeated number.\n",
    "You must solve the problem **without** modifying the array `nums` and uses only constant extra space.\n",
    "Example 1:\n",
    "Input: nums = [1,3,4,2,2]\n",
    "Output: 2\n",
    "Example 2:\n",
    "Input: nums = [3,1,3,4,2]\n",
    "Output: 3"
   ]
  },
  {
   "cell_type": "code",
   "execution_count": 8,
   "id": "97468c3a-3acc-4535-a365-be003b0e7f20",
   "metadata": {},
   "outputs": [],
   "source": [
    "def findDuplicate(nums):\n",
    "    slow = nums[0]\n",
    "    fast = nums[0]\n",
    "    \n",
    "    slow = nums[slow]\n",
    "    fast = nums[nums[fast]]\n",
    "    \n",
    "    while slow != fast:\n",
    "        slow = nums[slow]\n",
    "        fast = nums[nums[fast]]\n",
    "    \n",
    "    slow = nums[0]\n",
    "    \n",
    "    while slow != fast:\n",
    "        slow = nums[slow]\n",
    "        fast = nums[fast]\n",
    "    \n",
    "    return slow"
   ]
  },
  {
   "cell_type": "code",
   "execution_count": 9,
   "id": "75b75637-05f2-4c22-9658-4a695e22245a",
   "metadata": {},
   "outputs": [
    {
     "name": "stdout",
     "output_type": "stream",
     "text": [
      "2\n"
     ]
    }
   ],
   "source": [
    "nums = [1, 3, 4, 2, 2]\n",
    "duplicate = findDuplicate(nums)\n",
    "print(duplicate)  "
   ]
  },
  {
   "cell_type": "code",
   "execution_count": 10,
   "id": "9f8b57bf-2e63-41a8-bc2a-feb2155c130d",
   "metadata": {},
   "outputs": [
    {
     "name": "stdout",
     "output_type": "stream",
     "text": [
      "3\n"
     ]
    }
   ],
   "source": [
    "nums = [3, 1, 3, 4, 2]\n",
    "duplicate = findDuplicate(nums)\n",
    "print(duplicate)  "
   ]
  },
  {
   "cell_type": "raw",
   "id": "7e0aaf35-8a9e-4ddf-a6d6-4e48e24dc61b",
   "metadata": {},
   "source": [
    "Question 5\n",
    "Given two integer arrays `nums1` and `nums2`, return an array of their intersection. Each element in the result must be unique and you may return the result in **any order.\n",
    "Example 1:\n",
    "Input: nums1 = [1,2,2,1], nums2 = [2,2]\n",
    "Output: [2]\n",
    "Example 2:\n",
    "Input: nums1 = [4,9,5], nums2 = [9,4,9,8,4]\n",
    "Output: [9,4]\n",
    "Explanation: [4,9] is also accepted."
   ]
  },
  {
   "cell_type": "code",
   "execution_count": 11,
   "id": "bd8e4e5c-5d4c-46b9-8693-77e355f266e4",
   "metadata": {},
   "outputs": [],
   "source": [
    "def intersection(nums1, nums2):\n",
    "    set1 = set(nums1)\n",
    "    set2 = set(nums2)\n",
    "    \n",
    "    # Find the intersection of set1 and set2\n",
    "    intersect = set1.intersection(set2)\n",
    "    \n",
    "    return list(intersect)"
   ]
  },
  {
   "cell_type": "code",
   "execution_count": 12,
   "id": "115374de-f422-4605-a2a1-f80c7aee2851",
   "metadata": {},
   "outputs": [
    {
     "name": "stdout",
     "output_type": "stream",
     "text": [
      "[2]\n"
     ]
    }
   ],
   "source": [
    "nums1 = [1, 2, 2, 1]\n",
    "nums2 = [2, 2]\n",
    "result = intersection(nums1, nums2)\n",
    "print(result)  "
   ]
  },
  {
   "cell_type": "code",
   "execution_count": 13,
   "id": "08c0eb8a-ffb6-4cc2-809c-3a9a9c279b2a",
   "metadata": {},
   "outputs": [
    {
     "name": "stdout",
     "output_type": "stream",
     "text": [
      "[9, 4]\n"
     ]
    }
   ],
   "source": [
    "nums1 = [4, 9, 5]\n",
    "nums2 = [9, 4, 9, 8, 4]\n",
    "result = intersection(nums1, nums2)\n",
    "print(result)"
   ]
  },
  {
   "cell_type": "raw",
   "id": "e6c3815f-527e-4b5a-afe4-e70497e91910",
   "metadata": {},
   "source": [
    "Question 6\n",
    "Suppose an array of length `n` sorted in ascending order is **rotated** between `1` and `n` times. For example, the array `nums = [0,1,2,4,5,6,7]` might become.\n",
    "- `[4,5,6,7,0,1,2]` if it was rotated `4` times.\n",
    "- `[0,1,2,4,5,6,7]` if it was rotated `7` times.\n",
    "Notice that **rotating** an array `[a[0], a[1], a[2], ..., a[n-1]]` 1 time results in the array `[a[n-1], a[0], a[1], a[2], ..., a[n-2]]`.\n",
    "Given the sorted rotated array `nums` of unique elements, return the minimum element of this array.\n",
    "You must write an algorithm that runs in `O(log n) time.`\n",
    "Example 1:\n",
    "Input: nums = [3,4,5,1,2]\n",
    "Output: 1\n",
    "Explanation: The original array was [1,2,3,4,5] rotated 3 times.\n",
    "Example 2:\n",
    "Input: nums = [4,5,6,7,0,1,2]\n",
    "Output: 0\n",
    "Explanation: The original array was [0,1,2,4,5,6,7] and it was rotated 4 times.\n",
    "Example 3:\n",
    "Input: nums = [11,13,15,17]\n",
    "Output: 11\n",
    "Explanation: The original array was [11,13,15,17] and it was rotated 4 times."
   ]
  },
  {
   "cell_type": "code",
   "execution_count": 14,
   "id": "eb99d479-4018-497c-af5e-9f81eb4173b2",
   "metadata": {},
   "outputs": [],
   "source": [
    "def findMin(nums):\n",
    "    left = 0\n",
    "    right = len(nums) - 1\n",
    "    \n",
    "    while left < right:\n",
    "        mid = left + (right - left) // 2\n",
    "        \n",
    "        if nums[mid] > nums[right]:\n",
    "            left = mid + 1\n",
    "        else:\n",
    "            right = mid\n",
    "    return nums[left]"
   ]
  },
  {
   "cell_type": "code",
   "execution_count": 16,
   "id": "405d5bb7-066c-4d4f-b26a-d26a8865f979",
   "metadata": {},
   "outputs": [
    {
     "name": "stdout",
     "output_type": "stream",
     "text": [
      "1\n"
     ]
    }
   ],
   "source": [
    "nums = [3, 4, 5, 1, 2]\n",
    "result = findMin(nums)\n",
    "print(result) "
   ]
  },
  {
   "cell_type": "code",
   "execution_count": 17,
   "id": "1b761819-4c65-4662-8d51-ad1d773c26d2",
   "metadata": {},
   "outputs": [
    {
     "name": "stdout",
     "output_type": "stream",
     "text": [
      "0\n"
     ]
    }
   ],
   "source": [
    "nums = [4, 5, 6, 7, 0, 1, 2]\n",
    "result = findMin(nums)\n",
    "print(result)  "
   ]
  },
  {
   "cell_type": "code",
   "execution_count": 18,
   "id": "e1c8ce50-4618-4262-8b03-3e5082f0d07a",
   "metadata": {},
   "outputs": [
    {
     "name": "stdout",
     "output_type": "stream",
     "text": [
      "11\n"
     ]
    }
   ],
   "source": [
    "nums = [11, 13, 15, 17]\n",
    "result = findMin(nums)\n",
    "print(result)  "
   ]
  },
  {
   "cell_type": "raw",
   "id": "06d6177e-40eb-4ba5-ae34-690bbadfc367",
   "metadata": {},
   "source": [
    "Question 7\n",
    "Given an array of integers `nums` sorted in non-decreasing order, find the starting and ending position of a given `target` value.\n",
    "If `target` is not found in the array, return `[-1, -1]`.\n",
    "You must write an algorithm with `O(log n)` runtime complexity.\n",
    "Example 1:\n",
    "Input: nums = [5,7,7,8,8,10], target = 8\n",
    "Output: [3,4]\n",
    "Example 2:\n",
    "Input: nums = [5,7,7,8,8,10], target = 6\n",
    "Output: [-1,-1]\n",
    "Example 3:\n",
    "Input: nums = [], target = 0\n",
    "Output: [-1,-1]"
   ]
  },
  {
   "cell_type": "code",
   "execution_count": 19,
   "id": "99c4174c-c08f-4bb4-8860-0e68ae7bf3d1",
   "metadata": {},
   "outputs": [],
   "source": [
    "def searchRange(nums, target):\n",
    "    left = findLeftmost(nums, target)\n",
    "    right = findRightmost(nums, target)\n",
    "    \n",
    "    return [left, right]\n",
    "\n",
    "def findLeftmost(nums, target):\n",
    "    left = 0\n",
    "    right = len(nums) - 1\n",
    "    leftmost = -1\n",
    "    \n",
    "    while left <= right:\n",
    "        mid = left + (right - left) // 2\n",
    "        \n",
    "        if nums[mid] == target:\n",
    "            leftmost = mid\n",
    "            right = mid - 1\n",
    "        elif nums[mid] < target:\n",
    "            left = mid + 1\n",
    "        else:\n",
    "            right = mid - 1\n",
    "    \n",
    "    return leftmost\n",
    "\n",
    "def findRightmost(nums, target):\n",
    "    left = 0\n",
    "    right = len(nums) - 1\n",
    "    rightmost = -1\n",
    "    \n",
    "    while left <= right:\n",
    "        mid = left + (right - left) // 2\n",
    "        \n",
    "        if nums[mid] == target:\n",
    "            rightmost = mid\n",
    "            left = mid + 1\n",
    "        elif nums[mid] < target:\n",
    "            left = mid + 1\n",
    "        else:\n",
    "            right = mid - 1\n",
    "    \n",
    "    return rightmost"
   ]
  },
  {
   "cell_type": "code",
   "execution_count": 20,
   "id": "ce555bb3-94f6-40e6-b681-892b8aad1eca",
   "metadata": {},
   "outputs": [
    {
     "name": "stdout",
     "output_type": "stream",
     "text": [
      "[3, 4]\n"
     ]
    }
   ],
   "source": [
    "nums = [5, 7, 7, 8, 8, 10]\n",
    "target = 8\n",
    "result = searchRange(nums, target)\n",
    "print(result)  "
   ]
  },
  {
   "cell_type": "code",
   "execution_count": 21,
   "id": "821fc09a-b37e-40bc-9c3d-c73dd872b5b1",
   "metadata": {},
   "outputs": [
    {
     "name": "stdout",
     "output_type": "stream",
     "text": [
      "[-1, -1]\n"
     ]
    }
   ],
   "source": [
    "nums = [5, 7, 7, 8, 8, 10]\n",
    "target = 6\n",
    "result = searchRange(nums, target)\n",
    "print(result)  "
   ]
  },
  {
   "cell_type": "code",
   "execution_count": 22,
   "id": "9c89977e-3281-470d-a083-958be8629eaf",
   "metadata": {},
   "outputs": [
    {
     "name": "stdout",
     "output_type": "stream",
     "text": [
      "[-1, -1]\n"
     ]
    }
   ],
   "source": [
    "nums = []\n",
    "target = 0\n",
    "result = searchRange(nums, target)\n",
    "print(result)  "
   ]
  },
  {
   "cell_type": "raw",
   "id": "749a0656-3c6b-4a9c-aca4-729a9a31fcdf",
   "metadata": {},
   "source": [
    "Question 8\n",
    "Given two integer arrays `nums1` and `nums2`, return an array of their intersection. Each element in the result must appear as many times as it shows in both arrays and you may return the result in any order.\n",
    "Example 1:\n",
    "Input: nums1 = [1,2,2,1], nums2 = [2,2]\n",
    "Output: [2,2]\n",
    "Example 2:\n",
    "Input: nums1 = [4,9,5], nums2 = [9,4,9,8,4]\n",
    "Output: [4,9]\n",
    "Explanation: [9,4] is also accepted."
   ]
  },
  {
   "cell_type": "code",
   "execution_count": 23,
   "id": "04b34cbc-2c2e-4edf-8d4a-c3ff37b2503b",
   "metadata": {},
   "outputs": [],
   "source": [
    "from collections import Counter\n",
    "\n",
    "def intersect(nums1, nums2):\n",
    "    counter1 = Counter(nums1)\n",
    "    counter2 = Counter(nums2)\n",
    "    \n",
    "    intersection = []\n",
    "    \n",
    "    for num in counter1:\n",
    "        if num in counter2:\n",
    "            count = min(counter1[num], counter2[num])\n",
    "            intersection.extend([num] * count)\n",
    "    \n",
    "    return intersection"
   ]
  },
  {
   "cell_type": "code",
   "execution_count": null,
   "id": "b56365c7-7113-4b0c-bbf3-e8b3378091b7",
   "metadata": {},
   "outputs": [],
   "source": [
    "nums1 = [1, 2, 2, 1]\n",
    "nums2 = [2, 2]\n",
    "result = intersect(nums1, nums2)\n",
    "print(result)  # Output: "
   ]
  }
 ],
 "metadata": {
  "kernelspec": {
   "display_name": "Python 3 (ipykernel)",
   "language": "python",
   "name": "python3"
  },
  "language_info": {
   "codemirror_mode": {
    "name": "ipython",
    "version": 3
   },
   "file_extension": ".py",
   "mimetype": "text/x-python",
   "name": "python",
   "nbconvert_exporter": "python",
   "pygments_lexer": "ipython3",
   "version": "3.10.6"
  }
 },
 "nbformat": 4,
 "nbformat_minor": 5
}
