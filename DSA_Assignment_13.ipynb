{
 "cells": [
  {
   "cell_type": "markdown",
   "id": "bee68758-93da-4a22-86e8-d586cf73f5a1",
   "metadata": {},
   "source": [
    "# Assignment Question 13"
   ]
  },
  {
   "cell_type": "raw",
   "id": "7576f4e4-87da-48e4-ae56-6a7a5030b858",
   "metadata": {},
   "source": [
    "Question 1\n",
    "Given two linked list of the same size, the task is to create a new linked list using those linked lists. The condition is that the greater node among both linked list will be added to the new linked list.\n",
    "Examples:\n",
    "Input: list1 = 5->2->3->8\n",
    "list2 = 1->7->4->5\n",
    "Output: New list = 5->7->4->8\n",
    "\n",
    "Input:list1 = 2->8->9->3\n",
    "list2 = 5->3->6->4\n",
    "Output: New list = 5->8->9->4"
   ]
  },
  {
   "cell_type": "code",
   "execution_count": 1,
   "id": "ce368523-e8f8-4c29-bd9d-4985d1127d36",
   "metadata": {},
   "outputs": [
    {
     "name": "stdout",
     "output_type": "stream",
     "text": [
      "5 2 3 8 1 7 4 5 \n"
     ]
    }
   ],
   "source": [
    "class Node:\n",
    "    def __init__(self, data):\n",
    "        self.data = data\n",
    "        self.next = None\n",
    "\n",
    "def create_new_list(list1, list2):\n",
    "    if list1 is None or list2 is None:\n",
    "        return None\n",
    "\n",
    "    new_head = None\n",
    "    new_tail = None\n",
    "\n",
    "    while list1 is not None and list2 is not None:\n",
    "        if list1.data >= list2.data:\n",
    "            new_node = Node(list1.data)\n",
    "            list1 = list1.next\n",
    "        else:\n",
    "            new_node = Node(list2.data)\n",
    "            list2 = list2.next\n",
    "\n",
    "        if new_head is None:\n",
    "            new_head = new_node\n",
    "            new_tail = new_node\n",
    "        else:\n",
    "            new_tail.next = new_node\n",
    "            new_tail = new_node\n",
    "\n",
    "    if list1 is not None:\n",
    "        new_tail.next = list1\n",
    "    elif list2 is not None:\n",
    "        new_tail.next = list2\n",
    "\n",
    "    return new_head\n",
    "\n",
    "list1 = Node(5)\n",
    "list1.next = Node(2)\n",
    "list1.next.next = Node(3)\n",
    "list1.next.next.next = Node(8)\n",
    "\n",
    "list2 = Node(1)\n",
    "list2.next = Node(7)\n",
    "list2.next.next = Node(4)\n",
    "list2.next.next.next = Node(5)\n",
    "\n",
    "new_list = create_new_list(list1, list2)\n",
    "current = new_list\n",
    "while current is not None:\n",
    "    print(current.data, end=' ')\n",
    "    current = current.next\n",
    "print()"
   ]
  },
  {
   "cell_type": "raw",
   "id": "b7441c9a-a47f-494b-9a92-80999dcbcd63",
   "metadata": {},
   "source": [
    "Question 2\n",
    "Write a function that takes a list sorted in non-decreasing order and deletes any duplicate nodes from the list. The list should only be traversed once\n",
    "For example if the linked list is 11->11->11->21->43->43->60 then removeDuplicates() should convert the list to 11->21->43->60.\n",
    "Example 1:\n",
    "Input:\n",
    "LinkedList: \n",
    "11->11->11->21->43->43->60\n",
    "Output:\n",
    "11->21->43->60\n",
    "Example 2:\n",
    "Input:\n",
    "LinkedList: \n",
    "10->12->12->25->25->25->34\n",
    "Output:\n",
    "10->12->25->34"
   ]
  },
  {
   "cell_type": "code",
   "execution_count": 2,
   "id": "d8e7c712-fb10-4719-b225-95df11ed9e52",
   "metadata": {},
   "outputs": [
    {
     "name": "stdout",
     "output_type": "stream",
     "text": [
      "11 21 43 60 \n"
     ]
    }
   ],
   "source": [
    "class Node:\n",
    "    def __init__(self, data):\n",
    "        self.data = data\n",
    "        self.next = None\n",
    "\n",
    "def remove_duplicates(head):\n",
    "    if head is None:\n",
    "        return None\n",
    "\n",
    "    current = head\n",
    "    while current.next is not None:\n",
    "        if current.data == current.next.data:\n",
    "            current.next = current.next.next\n",
    "        else:\n",
    "            current = current.next\n",
    "\n",
    "    return head\n",
    "head = Node(11)\n",
    "head.next = Node(11)\n",
    "head.next.next = Node(11)\n",
    "head.next.next.next = Node(21)\n",
    "head.next.next.next.next = Node(43)\n",
    "head.next.next.next.next.next = Node(43)\n",
    "head.next.next.next.next.next.next = Node(60)\n",
    "\n",
    "new_head = remove_duplicates(head)\n",
    "\n",
    "current = new_head\n",
    "while current is not None:\n",
    "    print(current.data, end=' ')\n",
    "    current = current.next\n",
    "print()\n"
   ]
  },
  {
   "cell_type": "raw",
   "id": "55f8bf3e-712b-470d-ab32-14a525e1415d",
   "metadata": {},
   "source": [
    "Question 3\n",
    "Given a linked list of size **N**. The task is to reverse every **k** nodes (where k is an input to the function) in the linked list. If the number of nodes is not a multiple of *k* then left-out nodes, in the end, should be considered as a group and must be reversed (See Example 2 for clarification).\n",
    "Example 1:\n",
    "Input:\n",
    "LinkedList: 1->2->2->4->5->6->7->8\n",
    "K = 4\n",
    "Output:4 2 2 1 8 7 6 5\n",
    "Explanation:\n",
    "The first 4 elements 1,2,2,4 are reversed first\n",
    "and then the next 4 elements 5,6,7,8. Hence, the\n",
    "resultant linked list is 4->2->2->1->8->7->6->5.\n",
    "Example 2:\n",
    "Input:\n",
    "LinkedList: 1->2->3->4->5\n",
    "K = 3\n",
    "Output:3 2 1 5 4\n",
    "Explanation:\n",
    "The first 3 elements are 1,2,3 are reversed\n",
    "first and then elements 4,5 are reversed.Hence,\n",
    "the resultant linked list is 3->2->1->5->4."
   ]
  },
  {
   "cell_type": "code",
   "execution_count": 3,
   "id": "97090a45-20eb-4a23-869b-ef4b10c81cae",
   "metadata": {},
   "outputs": [
    {
     "name": "stdout",
     "output_type": "stream",
     "text": [
      "4 2 2 1 8 7 6 5 \n"
     ]
    }
   ],
   "source": [
    "class Node:\n",
    "    def __init__(self, data):\n",
    "        self.data = data\n",
    "        self.next = None\n",
    "\n",
    "def reverse_k_nodes(head, k):\n",
    "    if head is None:\n",
    "        return None\n",
    "\n",
    "    current = head\n",
    "    prev = None\n",
    "    next = None\n",
    "    count = 0\n",
    "\n",
    "    while current is not None and count < k:\n",
    "        next = current.next\n",
    "        current.next = prev\n",
    "        prev = current\n",
    "        current = next\n",
    "        count += 1\n",
    "\n",
    "    if next is not None:\n",
    "        head.next = reverse_k_nodes(next, k)\n",
    "\n",
    "    return prev\n",
    "\n",
    "head = Node(1)\n",
    "head.next = Node(2)\n",
    "head.next.next = Node(2)\n",
    "head.next.next.next = Node(4)\n",
    "head.next.next.next.next = Node(5)\n",
    "head.next.next.next.next.next = Node(6)\n",
    "head.next.next.next.next.next.next = Node(7)\n",
    "head.next.next.next.next.next.next.next = Node(8)\n",
    "\n",
    "new_head = reverse_k_nodes(head, 4)\n",
    "\n",
    "current = new_head\n",
    "while current is not None:\n",
    "    print(current.data, end=' ')\n",
    "    current = current.next\n",
    "print()"
   ]
  },
  {
   "cell_type": "raw",
   "id": "b5244242-0170-4d06-a1c5-73818722d8b1",
   "metadata": {},
   "source": [
    "Question 4\n",
    "Given a linked list, write a function to reverse every alternate k nodes (where k is an input to the function) in an efficient way. Give the complexity of your algorithm.\n",
    "Example:\n",
    "Inputs:   1->2->3->4->5->6->7->8->9->NULL and k = 3\n",
    "Output:   3->2->1->4->5->6->9->8->7->NULL."
   ]
  },
  {
   "cell_type": "code",
   "execution_count": 4,
   "id": "5edd72c1-3631-437d-a915-2431f6dcbf98",
   "metadata": {},
   "outputs": [
    {
     "name": "stdout",
     "output_type": "stream",
     "text": [
      "3 2 1 4 5 6 9 8 7 \n"
     ]
    }
   ],
   "source": [
    "class Node:\n",
    "    def __init__(self, data):\n",
    "        self.data = data\n",
    "        self.next = None\n",
    "\n",
    "def reverse_alternate_k_nodes(head, k):\n",
    "    if head is None:\n",
    "        return None\n",
    "\n",
    "    current = head\n",
    "    prev = None\n",
    "    next = None\n",
    "    count = 0\n",
    "    while current is not None and count < k:\n",
    "        next = current.next\n",
    "        current.next = prev\n",
    "        prev = current\n",
    "        current = next\n",
    "        count += 1\n",
    "\n",
    "    if head is not None:\n",
    "        head.next = current\n",
    "\n",
    "    count = 0\n",
    "    while current is not None and count < k-1:\n",
    "        current = current.next\n",
    "        count += 1\n",
    "\n",
    "    if current is not None:\n",
    "        current.next = reverse_alternate_k_nodes(current.next, k)\n",
    "\n",
    "    return prev\n",
    "head = Node(1)\n",
    "head.next = Node(2)\n",
    "head.next.next = Node(3)\n",
    "head.next.next.next = Node(4)\n",
    "head.next.next.next.next = Node(5)\n",
    "head.next.next.next.next.next = Node(6)\n",
    "head.next.next.next.next.next.next = Node(7)\n",
    "head.next.next.next.next.next.next.next = Node(8)\n",
    "head.next.next.next.next.next.next.next.next = Node(9)\n",
    "\n",
    "new_head = reverse_alternate_k_nodes(head, 3)\n",
    "\n",
    "current = new_head\n",
    "while current is not None:\n",
    "    print(current.data, end=' ')\n",
    "    current = current.next\n",
    "print()"
   ]
  },
  {
   "cell_type": "raw",
   "id": "a8844862-9a01-4991-a2cd-c8a1ceec6536",
   "metadata": {},
   "source": [
    "Question 5\n",
    "Given a linked list and a key to be deleted. Delete last occurrence of key from linked. The list may have duplicates.\n",
    "Examples:\n",
    "Input:   1->2->3->5->2->10, key = 2\n",
    "Output:  1->2->3->5->10"
   ]
  },
  {
   "cell_type": "code",
   "execution_count": 6,
   "id": "4a6f6a32-4ca4-4318-bb2c-c09a04e5f4b1",
   "metadata": {},
   "outputs": [
    {
     "name": "stdout",
     "output_type": "stream",
     "text": [
      "1 2 3 5 10 \n"
     ]
    }
   ],
   "source": [
    "class Node:\n",
    "    def __init__(self, data):\n",
    "        self.data = data\n",
    "        self.next = None\n",
    "\n",
    "def delete_last_occurrence(head, key):\n",
    "    if head is None:\n",
    "        return None\n",
    "\n",
    "    last_occurrence = None\n",
    "    current = head\n",
    "    prev = None\n",
    "    prev_last_occurrence = None\n",
    "\n",
    "    while current is not None:\n",
    "        if current.data == key:\n",
    "            prev_last_occurrence = prev\n",
    "            last_occurrence = current\n",
    "        prev = current\n",
    "        current = current.next\n",
    "\n",
    "    if last_occurrence is not None:\n",
    "        if last_occurrence == head:\n",
    "            head = head.next\n",
    "        else:\n",
    "            prev_last_occurrence.next = last_occurrence.next\n",
    "\n",
    "    return head\n",
    "\n",
    "head = Node(1)\n",
    "head.next = Node(2)\n",
    "head.next.next = Node(3)\n",
    "head.next.next.next = Node(5)\n",
    "head.next.next.next.next = Node(2)\n",
    "head.next.next.next.next.next = Node(10)\n",
    "\n",
    "new_head = delete_last_occurrence(head, 2)\n",
    "\n",
    "current = new_head\n",
    "while current is not None:\n",
    "    print(current.data, end=' ')\n",
    "    current = current.next\n",
    "print()"
   ]
  },
  {
   "cell_type": "raw",
   "id": "b8d37f27-173f-438b-b48b-5c4d142a4819",
   "metadata": {},
   "source": [
    "Question 6\n",
    "Given two sorted linked lists consisting of **N** and **M** nodes respectively. The task is to merge both of the lists (in place) and return the head of the merged list.\n",
    "Examples:\n",
    "Input: a: 5->10->15, b: 2->3->20\n",
    "Output: 2->3->5->10->15->20\n",
    "Input: a: 1->1, b: 2->4\n",
    "Output: 1->1->2->4"
   ]
  },
  {
   "cell_type": "code",
   "execution_count": 7,
   "id": "82076aa2-456b-4e25-af72-d61946f4820e",
   "metadata": {},
   "outputs": [
    {
     "name": "stdout",
     "output_type": "stream",
     "text": [
      "2 3 5 10 15 20 \n"
     ]
    }
   ],
   "source": [
    "class Node:\n",
    "    def __init__(self, data):\n",
    "        self.data = data\n",
    "        self.next = None\n",
    "\n",
    "def merge_sorted_lists(a, b):\n",
    "    if a is None:\n",
    "        return b\n",
    "    if b is None:\n",
    "        return a\n",
    "\n",
    "    if a.data <= b.data:\n",
    "        head = a\n",
    "        a = a.next\n",
    "    else:\n",
    "        head = b\n",
    "        b = b.next\n",
    "\n",
    "    current = head\n",
    "\n",
    "    while a is not None and b is not None:\n",
    "        if a.data <= b.data:\n",
    "            current.next = a\n",
    "            a = a.next\n",
    "        else:\n",
    "            current.next = b\n",
    "            b = b.next\n",
    "        current = current.next\n",
    "\n",
    "    if a is not None:\n",
    "        current.next = a\n",
    "    if b is not None:\n",
    "        current.next = b\n",
    "\n",
    "    return head\n",
    "\n",
    "a = Node(5)\n",
    "a.next = Node(10)\n",
    "a.next.next = Node(15)\n",
    "\n",
    "b = Node(2)\n",
    "b.next = Node(3)\n",
    "b.next.next = Node(20)\n",
    "\n",
    "merged_head = merge_sorted_lists(a, b)\n",
    "\n",
    "current = merged_head\n",
    "while current is not None:\n",
    "    print(current.data, end=' ')\n",
    "    current = current.next\n",
    "print()"
   ]
  },
  {
   "cell_type": "raw",
   "id": "066a0af1-7688-44e3-9875-9e81a230fe2b",
   "metadata": {},
   "source": [
    "Question 7\n",
    "Given a Doubly Linked List, the task is to reverse the given Doubly Linked List.\n",
    "Example:\n",
    "Original Linked list 10 8 4 2\n",
    "Reversed Linked list 2 4 8 10"
   ]
  },
  {
   "cell_type": "code",
   "execution_count": 8,
   "id": "d0182d4c-e20e-46a4-8268-34933a9fbd1e",
   "metadata": {},
   "outputs": [
    {
     "name": "stdout",
     "output_type": "stream",
     "text": [
      "2 \n"
     ]
    }
   ],
   "source": [
    "class Node:\n",
    "    def __init__(self, data):\n",
    "        self.data = data\n",
    "        self.prev = None\n",
    "        self.next = None\n",
    "\n",
    "def reverse_doubly_linked_list(head):\n",
    "    if head is None:\n",
    "        return None\n",
    "\n",
    "    current = head\n",
    "    new_head = None\n",
    "\n",
    "    while current is not None:\n",
    "        next_node = current.next\n",
    "        current.next = current.prev\n",
    "        current.prev = next_node\n",
    "\n",
    "        new_head = current\n",
    "        current = next_node\n",
    "\n",
    "    return new_head\n",
    "\n",
    "head = Node(10)\n",
    "head.next = Node(8)\n",
    "head.next.next = Node(4)\n",
    "head.next.next.next = Node(2)\n",
    "\n",
    "reversed_head = reverse_doubly_linked_list(head)\n",
    "\n",
    "current = reversed_head\n",
    "while current is not None:\n",
    "    print(current.data, end=' ')\n",
    "    current = current.next\n",
    "print()"
   ]
  },
  {
   "cell_type": "raw",
   "id": "f4131099-f8ac-498d-8f08-248022a2f38b",
   "metadata": {},
   "source": [
    "Question 8\n",
    "Given a doubly linked list and a position. The task is to delete a node from given position in a doubly linked list.\n",
    "Example 1:\n",
    "Input:\n",
    "LinkedList = 1 <--> 3 <--> 4\n",
    "x = 3\n",
    "Output:1 3\n",
    "Explanation:After deleting the node at\n",
    "position 3 (position starts from 1),\n",
    "the linked list will be now as 1->3.\n",
    "Example 2:\n",
    "Input:\n",
    "LinkedList = 1 <--> 5 <--> 2 <--> 9\n",
    "x = 1\n",
    "Output:5 2 9"
   ]
  },
  {
   "cell_type": "code",
   "execution_count": null,
   "id": "112681ab-0a9b-4286-ab47-87c0a1e0885d",
   "metadata": {},
   "outputs": [],
   "source": []
  }
 ],
 "metadata": {
  "kernelspec": {
   "display_name": "Python 3 (ipykernel)",
   "language": "python",
   "name": "python3"
  },
  "language_info": {
   "codemirror_mode": {
    "name": "ipython",
    "version": 3
   },
   "file_extension": ".py",
   "mimetype": "text/x-python",
   "name": "python",
   "nbconvert_exporter": "python",
   "pygments_lexer": "ipython3",
   "version": "3.10.6"
  }
 },
 "nbformat": 4,
 "nbformat_minor": 5
}
