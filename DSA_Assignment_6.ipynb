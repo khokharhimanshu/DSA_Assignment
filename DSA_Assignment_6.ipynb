{
 "cells": [
  {
   "cell_type": "markdown",
   "id": "909d0260-7d92-4105-9726-0df7e7498392",
   "metadata": {},
   "source": [
    "# Assignment Questions 6 "
   ]
  },
  {
   "cell_type": "raw",
   "id": "6af25dd8-3a41-41fc-bea2-6d71a8c2e61b",
   "metadata": {},
   "source": [
    "Question 1\n",
    "A permutation perm of n + 1 integers of all the integers in the range [0, n] can be represented as a string s of length n where:\n",
    "- s[i] == 'I' if perm[i] < perm[i + 1], and\n",
    "- s[i] == 'D' if perm[i] > perm[i + 1].\n",
    "Given a string s, reconstruct the permutation perm and return it. If there are multiple valid permutations perm, return any of them.\n",
    "Example 1:\n",
    "Input: s = \"IDID\"\n",
    "Output:\n",
    "[0,4,1,3,2]"
   ]
  },
  {
   "cell_type": "code",
   "execution_count": 1,
   "id": "fac013c9-f966-4eda-a9ba-4b73a6f6f7c7",
   "metadata": {},
   "outputs": [],
   "source": [
    "def findPermutation(s):\n",
    "    n = len(s)\n",
    "    perm = list(range(n + 1))\n",
    "    result = []\n",
    "\n",
    "    # Handle the first character separately\n",
    "    if s[0] == 'D':\n",
    "        result.extend(perm[::-1][:2])\n",
    "    else:\n",
    "        result.append(perm[0])\n",
    "        result.append(perm[1])\n",
    "\n",
    "    # Process the remaining characters in s\n",
    "    for i in range(1, n):\n",
    "        if s[i] == 'D':\n",
    "            result.append(perm[i])\n",
    "        else:\n",
    "            result.extend(perm[i+1:i-1:-1])\n",
    "\n",
    "    return result"
   ]
  },
  {
   "cell_type": "raw",
   "id": "b6fbeddb-90db-481b-b183-86252316ad00",
   "metadata": {},
   "source": [
    "Question 2\n",
    "You are given an m x n integer matrix matrix with the following two properties:\n",
    "- Each row is sorted in non-decreasing order.\n",
    "- The first integer of each row is greater than the last integer of the previous row.\n",
    "Given an integer target, return true if target is in matrix or false otherwise.\n",
    "You must write a solution in O(log(m  n)) time complexity.\n",
    "Example 1:\n",
    "Input: matrix = [[1,3,5,7],[10,11,16,20],[23,30,34,60]], target = 3\n",
    "Output: true"
   ]
  },
  {
   "cell_type": "code",
   "execution_count": 2,
   "id": "ebc2997c-7b78-4b81-a314-f219f8759f12",
   "metadata": {},
   "outputs": [],
   "source": [
    "def searchMatrix(matrix, target):\n",
    "    if not matrix or not matrix[0]:\n",
    "        return False\n",
    "\n",
    "    rows = len(matrix)\n",
    "    cols = len(matrix[0])\n",
    "\n",
    "    left = 0\n",
    "    right = rows * cols - 1\n",
    "\n",
    "    while left <= right:\n",
    "        mid = left + (right - left) // 2\n",
    "        row = mid // cols\n",
    "        col = mid % cols\n",
    "\n",
    "        if matrix[row][col] == target:\n",
    "            return True\n",
    "        elif matrix[row][col] < target:\n",
    "            left = mid + 1\n",
    "        else:\n",
    "            right = mid - 1\n",
    "\n",
    "    return False"
   ]
  },
  {
   "cell_type": "raw",
   "id": "4350333f-31cd-447c-9b5a-3daebdbcee4c",
   "metadata": {},
   "source": [
    "Question 3\n",
    "Given an array of integers arr, return true if and only if it is a valid mountain array.\n",
    "Recall that arr is a mountain array if and only if:\n",
    "- arr.length >= 3\n",
    "- There exists some i with 0 < i < arr.length - 1 such that:\n",
    "    - arr[0] < arr[1] < ... < arr[i - 1] < arr[i]\n",
    "    - arr[i] > arr[i + 1] > ... > arr[arr.length - 1]\n",
    "Example 1:\n",
    "Input: arr = [2,1]\n",
    "Output:\n",
    "false    "
   ]
  },
  {
   "cell_type": "code",
   "execution_count": 3,
   "id": "7e00bfbd-9aee-4987-81f3-03f1a6991a3d",
   "metadata": {},
   "outputs": [],
   "source": [
    "def validMountainArray(arr):\n",
    "    if len(arr) < 3:\n",
    "        return False\n",
    "\n",
    "    i = 0\n",
    "\n",
    "    # Check for increasing sequence\n",
    "    while i < len(arr) - 1 and arr[i] < arr[i + 1]:\n",
    "        i += 1\n",
    "\n",
    "    # If i is at the first or last index, it's not a valid mountain array\n",
    "    if i == 0 or i == len(arr) - 1:\n",
    "        return False\n",
    "\n",
    "    # Check for decreasing sequence\n",
    "    while i < len(arr) - 1 and arr[i] > arr[i + 1]:\n",
    "        i += 1\n",
    "\n",
    "    # If we reached the end of the array, it's a valid mountain array\n",
    "    return i == len(arr) - 1\n"
   ]
  },
  {
   "cell_type": "raw",
   "id": "076c2cdb-e64d-4c46-852f-c11b3a3fe9cc",
   "metadata": {},
   "source": [
    "Question 4\n",
    "Given a binary array nums, return *the maximum length of a contiguous subarray with an equal number of 0 and 1.\n",
    "Example 1:\n",
    "Input: nums = [0,1]\n",
    "Output: 2\n",
    "Explanation:\n",
    "[0, 1] is the longest contiguous subarray with an equal number of 0 and 1."
   ]
  },
  {
   "cell_type": "code",
   "execution_count": 4,
   "id": "ef4e7f40-6e3a-41cd-a3ac-3dcb0aad385e",
   "metadata": {},
   "outputs": [],
   "source": [
    "def findMaxLength(nums):\n",
    "    max_length = 0\n",
    "    count = 0\n",
    "    count_map = {0: -1}\n",
    "\n",
    "    for i in range(len(nums)):\n",
    "        if nums[i] == 0:\n",
    "            count += 1\n",
    "        else:\n",
    "            count -= 1\n",
    "\n",
    "        if count in count_map:\n",
    "            max_length = max(max_length, i - count_map[count])\n",
    "        else:\n",
    "            count_map[count] = i\n",
    "\n",
    "    return max_length"
   ]
  },
  {
   "cell_type": "raw",
   "id": "92d4dc54-6e40-4a4b-b282-6d433c35a432",
   "metadata": {},
   "source": [
    "Question 5\n",
    "\n",
    "The product sum of two equal-length arrays a and b is equal to the sum of a[i]  b[i] for all 0 <= i < a.length (0-indexed).\n",
    "- For example, if a = [1,2,3,4] and b = [5,2,3,1], the product sum would be 1*5 + 2*2 + 3*3 + 4*1 = 22.\n",
    "Given two arrays nums1 and nums2 of length n, return the minimum product sum if you are allowed to rearrange the order of the elements in nums1.\n",
    "Example 1:\n",
    "Input: nums1 = [5,3,4,2], nums2 = [4,2,2,5]\n",
    "Output: 40\n",
    "Explanation:\n",
    "We can rearrange nums1 to become [3,5,4,2]. The product sum of [3,5,4,2] and [4,2,2,5] is 3*4 + 5*2 + 4*2 + 2*5 = 40."
   ]
  },
  {
   "cell_type": "code",
   "execution_count": 5,
   "id": "3d68223f-c2c8-422d-9220-2817632f7f36",
   "metadata": {},
   "outputs": [],
   "source": [
    "def minProductSum(nums1, nums2):\n",
    "    nums1.sort()\n",
    "    nums2.sort(reverse=True)\n",
    "    product_sum = 0\n",
    "    n = len(nums1)\n",
    "    \n",
    "    for i in range(n):\n",
    "        product_sum += nums1[i] * nums2[i]\n",
    "    \n",
    "    return product_sum"
   ]
  },
  {
   "cell_type": "raw",
   "id": "08aa4390-67c6-4676-bd6b-84938449e3c0",
   "metadata": {},
   "source": [
    "Question 6\n",
    "An integer array original is transformed into a doubled array changed by appending twice the value of every element in original, and then randomly shuffling the resulting array.\n",
    "Given an array changed, return original if changed is a doubled array. If changed is not a doubled array, return an empty array. The elements in original may be returned in any order.\n",
    "Example 1:\n",
    "Input: changed = [1,3,4,2,6,8]\n",
    "Output: [1,3,4]\n",
    "Explanation: One possible original array could be [1,3,4]:\n",
    "- Twice the value of 1 is 1 * 2 = 2.\n",
    "- Twice the value of 3 is 3 * 2 = 6.\n",
    "- Twice the value of 4 is 4 * 2 = 8.\n",
    "Other original arrays could be [4,3,1] or [3,1,4]."
   ]
  },
  {
   "cell_type": "code",
   "execution_count": 7,
   "id": "ed29a3ca-218a-4cdb-af46-e102541c9561",
   "metadata": {},
   "outputs": [],
   "source": [
    "def findOriginalArray(changed):\n",
    "    if len(changed) % 2 != 0:\n",
    "        return []\n",
    "    \n",
    "    changed.sort()\n",
    "    original = []\n",
    "    seen = set()\n",
    "    \n",
    "    for num in changed:\n",
    "        if num % 2 != 0:\n",
    "            return []\n",
    "        \n",
    "        half = num // 2\n",
    "        if half in seen:\n",
    "            seen.remove(half)\n",
    "            original.append(half)\n",
    "        else:\n",
    "            seen.add(num)\n",
    "    \n",
    "    if len(seen) == 0:\n",
    "        return original\n",
    "    \n",
    "    return []"
   ]
  },
  {
   "cell_type": "raw",
   "id": "d41e3236-00a8-40ad-98d4-4b65d57348da",
   "metadata": {},
   "source": [
    "Question 7\n",
    "Given a positive integer n, generate an n x n matrix filled with elements from 1 to n2 in spiral order.\n",
    "Example 1:\n",
    "Input: n = 3\n",
    "Output: [[1,2,3],[8,9,4],[7,6,5]]"
   ]
  },
  {
   "cell_type": "code",
   "execution_count": 8,
   "id": "adeede3a-8da7-4c2f-ada6-257562f35ac1",
   "metadata": {},
   "outputs": [],
   "source": [
    "def generateMatrix(n):\n",
    "    matrix = [[0] * n for _ in range(n)]\n",
    "    num = 1\n",
    "    left, right, top, bottom = 0, n-1, 0, n-1\n",
    "\n",
    "    while num <= n**2:\n",
    "        # Fill top row\n",
    "        for i in range(left, right+1):\n",
    "            matrix[top][i] = num\n",
    "            num += 1\n",
    "        top += 1\n",
    "\n",
    "        # Fill right column\n",
    "        for i in range(top, bottom+1):\n",
    "            matrix[i][right] = num\n",
    "            num += 1\n",
    "        right -= 1\n",
    "\n",
    "        # Fill bottom row\n",
    "        for i in range(right, left-1, -1):\n",
    "            matrix[bottom][i] = num\n",
    "            num += 1\n",
    "        bottom -= 1\n",
    "\n",
    "        # Fill left column\n",
    "        for i in range(bottom, top-1, -1):\n",
    "            matrix[i][left] = num\n",
    "            num += 1\n",
    "        left += 1\n",
    "\n",
    "    return matrix"
   ]
  },
  {
   "cell_type": "code",
   "execution_count": null,
   "id": "fe5947cc-74b2-42f6-82fa-946f9154d3ac",
   "metadata": {},
   "outputs": [],
   "source": []
  }
 ],
 "metadata": {
  "kernelspec": {
   "display_name": "Python 3 (ipykernel)",
   "language": "python",
   "name": "python3"
  },
  "language_info": {
   "codemirror_mode": {
    "name": "ipython",
    "version": 3
   },
   "file_extension": ".py",
   "mimetype": "text/x-python",
   "name": "python",
   "nbconvert_exporter": "python",
   "pygments_lexer": "ipython3",
   "version": "3.10.6"
  }
 },
 "nbformat": 4,
 "nbformat_minor": 5
}
