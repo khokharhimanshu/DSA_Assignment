{
 "cells": [
  {
   "cell_type": "markdown",
   "id": "81fa9bba-0c86-4518-8a91-95bc6a0c7792",
   "metadata": {},
   "source": [
    "# Assignment Questions 9"
   ]
  },
  {
   "cell_type": "raw",
   "id": "114d04dc-247c-42f2-9662-3e01dfa9c911",
   "metadata": {},
   "source": [
    "Question 1\n",
    "Given an integer `n`, return *`true` if it is a power of two. Otherwise, return `false`.\n",
    "An integer `n` is a power of two, if there exists an integer `x` such that `n == 2x`.\n",
    "Example 1:\n",
    "Input: n = 1 \n",
    "Output: true\n",
    "Example 2:\n",
    "Input: n = 16\n",
    "Output: true\n",
    "Example 3:\n",
    "Input: n = 3 \n",
    "Output: false"
   ]
  },
  {
   "cell_type": "code",
   "execution_count": 1,
   "id": "78e63b52-f506-4fdd-af5e-775b7f55c353",
   "metadata": {},
   "outputs": [],
   "source": [
    "def isPowerOfTwo(n):\n",
    "    if n <= 0:\n",
    "        return False\n",
    "    return n & (n - 1) == 0"
   ]
  },
  {
   "cell_type": "code",
   "execution_count": 3,
   "id": "9e9b8807-0fca-4364-ac7d-5c2bc2a564d6",
   "metadata": {},
   "outputs": [
    {
     "name": "stdout",
     "output_type": "stream",
     "text": [
      "True\n",
      "True\n",
      "False\n"
     ]
    }
   ],
   "source": [
    "# Example 1\n",
    "n = 1\n",
    "print(isPowerOfTwo(n))  \n",
    "\n",
    "# Example 2\n",
    "n = 16\n",
    "print(isPowerOfTwo(n))  \n",
    "\n",
    "# Example 3\n",
    "n = 3\n",
    "print(isPowerOfTwo(n))  "
   ]
  },
  {
   "cell_type": "raw",
   "id": "29ab3a2c-0776-49d7-b10c-b3338e348e65",
   "metadata": {},
   "source": [
    "Question 2\n",
    "Given a number n, find the sum of the first natural numbers.\n",
    "Example 1:\n",
    "Input: n = 3 \n",
    "Output: 6\n",
    "Example 2:\n",
    "Input  : 5 \n",
    "Output : 15"
   ]
  },
  {
   "cell_type": "code",
   "execution_count": 4,
   "id": "87233300-5e19-47f3-823c-60710a6d515a",
   "metadata": {},
   "outputs": [
    {
     "name": "stdout",
     "output_type": "stream",
     "text": [
      "6\n",
      "15\n"
     ]
    }
   ],
   "source": [
    "sum = (n * (n + 1)) / 2\n",
    "def sumOfNaturalNumbers(n):\n",
    "    return (n * (n + 1)) // 2\n",
    "\n",
    "# Example 1\n",
    "n = 3\n",
    "print(sumOfNaturalNumbers(n)) \n",
    "\n",
    "# Example 2\n",
    "n = 5\n",
    "print(sumOfNaturalNumbers(n))  "
   ]
  },
  {
   "cell_type": "raw",
   "id": "98dbf5a9-31e6-465e-8dce-6d346a846374",
   "metadata": {},
   "source": [
    "Question 3\n",
    "Given a positive integer, N. Find the factorial of N. \n",
    "Example 1:\n",
    "Input: N = 5 \n",
    "Output: 120\n",
    "Example 2:\n",
    "Input: N = 4\n",
    "Output: 24"
   ]
  },
  {
   "cell_type": "code",
   "execution_count": 5,
   "id": "95808d16-c432-4b11-a282-0ce4f494f206",
   "metadata": {},
   "outputs": [
    {
     "name": "stdout",
     "output_type": "stream",
     "text": [
      "120\n",
      "24\n"
     ]
    }
   ],
   "source": [
    "def factorial(N):\n",
    "    result = 1\n",
    "    for i in range(1, N + 1):\n",
    "        result *= i\n",
    "    return result\n",
    "\n",
    "# Example 1\n",
    "N = 5\n",
    "print(factorial(N))  \n",
    "\n",
    "# Example 2\n",
    "N = 4\n",
    "print(factorial(N))  "
   ]
  },
  {
   "cell_type": "raw",
   "id": "9ef768e8-f329-4b70-af8f-bbae51fd41cf",
   "metadata": {},
   "source": [
    "Question 4\n",
    "Given a number N and a power P, the task is to find the exponent of this number raised to the given power, i.e. N^P.\n",
    "Example 1 : \n",
    "Input: N = 5, P = 2\n",
    "Output: 25\n",
    "Example 2.\n",
    "Input: N = 2, P = 5\n",
    "Output: 32"
   ]
  },
  {
   "cell_type": "code",
   "execution_count": 6,
   "id": "a0696e8c-4b1a-4a52-8665-84baca2e966e",
   "metadata": {},
   "outputs": [
    {
     "name": "stdout",
     "output_type": "stream",
     "text": [
      "25\n",
      "32\n"
     ]
    }
   ],
   "source": [
    "def calculateExponent(N, P):\n",
    "    return N ** P\n",
    "\n",
    "# Example 1\n",
    "N = 5\n",
    "P = 2\n",
    "print(calculateExponent(N, P))  \n",
    "# Example 2\n",
    "N = 2\n",
    "P = 5\n",
    "print(calculateExponent(N, P))  "
   ]
  },
  {
   "cell_type": "raw",
   "id": "771c033c-c676-4984-8b27-b9d8f0e3bd1c",
   "metadata": {},
   "source": [
    "Question 5\n",
    "Given an array of integers **arr**, the task is to find maximum element of that array using recursion.\n",
    "Example 1:\n",
    "Input: arr = {1, 4, 3, -5, -4, 8, 6};\n",
    "Output: 8\n",
    "Example 2:\n",
    "Input: arr = {1, 4, 45, 6, 10, -8};\n",
    "Output: 45"
   ]
  },
  {
   "cell_type": "code",
   "execution_count": 8,
   "id": "aaf297cc-a1ee-42ed-b38e-bd1a8f9dc3c8",
   "metadata": {},
   "outputs": [
    {
     "name": "stdout",
     "output_type": "stream",
     "text": [
      "8\n",
      "45\n"
     ]
    }
   ],
   "source": [
    "def findMax(arr, n):\n",
    "    if n == 1:\n",
    "        return arr[0]\n",
    "    \n",
    "    return max(arr[n-1], findMax(arr, n-1))\n",
    "\n",
    "# Example 1\n",
    "arr = [1, 4, 3, -5, -4, 8, 6]\n",
    "n = len(arr)\n",
    "print(findMax(arr, n))  \n",
    "\n",
    "# Example 2\n",
    "arr = [1, 4, 45, 6, 10, -8]\n",
    "n = len(arr)\n",
    "print(findMax(arr, n)) "
   ]
  },
  {
   "cell_type": "raw",
   "id": "d70aae42-b111-4fd7-ae8a-26fd1b9dd8d8",
   "metadata": {},
   "source": [
    "Question 6\n",
    "Given first term (a), common difference (d) and a integer N of the Arithmetic Progression series, the task is to find Nth term of the series.\n",
    "Example 1:\n",
    "Input : a = 2 d = 1 N = 5\n",
    "Output : 6\n",
    "The 5th term of the series is : 6\n",
    "Example 2:\n",
    "Input : a = 5 d = 2 N = 10\n",
    "Output : 23\n",
    "The 10th term of the series is : 23"
   ]
  },
  {
   "cell_type": "code",
   "execution_count": 10,
   "id": "d9411631-259a-4130-90e8-250af001910e",
   "metadata": {},
   "outputs": [
    {
     "name": "stdout",
     "output_type": "stream",
     "text": [
      "6\n",
      "23\n"
     ]
    }
   ],
   "source": [
    "def findNthTerm(a, d, N):\n",
    "    return a + (N - 1) * d\n",
    "\n",
    "# Example 1\n",
    "a = 2\n",
    "d = 1\n",
    "N = 5\n",
    "print(findNthTerm(a, d, N))  \n",
    "\n",
    "# Example 2\n",
    "a = 5\n",
    "d = 2\n",
    "N = 10\n",
    "print(findNthTerm(a, d, N))  "
   ]
  },
  {
   "cell_type": "raw",
   "id": "b6e3b882-3194-42d2-9af1-41f75e5517cc",
   "metadata": {},
   "source": [
    "Question 7\n",
    "Given a string S, the task is to write a program to print all permutations of a given string.\n",
    "Example 1:\n",
    "Input:\n",
    "S = “ABC”\n",
    "Output:\n",
    "“ABC”, “ACB”, “BAC”, “BCA”, “CBA”, “CAB”\n",
    "Example 2:\n",
    "Input:\n",
    "S = “XY”\n",
    "Output:\n",
    "“XY”, “YX”"
   ]
  },
  {
   "cell_type": "code",
   "execution_count": 11,
   "id": "b7e21b90-321a-4cd4-b43a-9220e8f52ba0",
   "metadata": {},
   "outputs": [
    {
     "name": "stdout",
     "output_type": "stream",
     "text": [
      "ABC\n",
      "ACB\n",
      "BAC\n",
      "BCA\n",
      "CBA\n",
      "CAB\n",
      "XY\n",
      "YX\n"
     ]
    }
   ],
   "source": [
    "def generatePermutations(string, left, right):\n",
    "    if left == right:\n",
    "        print(\"\".join(string))\n",
    "    else:\n",
    "        for i in range(left, right + 1):\n",
    "            string[left], string[i] = string[i], string[left]\n",
    "            \n",
    "            generatePermutations(string, left + 1, right)\n",
    "            \n",
    "            string[left], string[i] = string[i], string[left]\n",
    "\n",
    "# Example 1\n",
    "S = \"ABC\"\n",
    "generatePermutations(list(S), 0, len(S) - 1)\n",
    "\n",
    "# Example 2\n",
    "S = \"XY\"\n",
    "generatePermutations(list(S), 0, len(S) - 1)"
   ]
  },
  {
   "cell_type": "raw",
   "id": "4c3c331e-1d33-48dc-95de-c8ac4e84f01b",
   "metadata": {},
   "source": []
  }
 ],
 "metadata": {
  "kernelspec": {
   "display_name": "Python 3 (ipykernel)",
   "language": "python",
   "name": "python3"
  },
  "language_info": {
   "codemirror_mode": {
    "name": "ipython",
    "version": 3
   },
   "file_extension": ".py",
   "mimetype": "text/x-python",
   "name": "python",
   "nbconvert_exporter": "python",
   "pygments_lexer": "ipython3",
   "version": "3.10.6"
  }
 },
 "nbformat": 4,
 "nbformat_minor": 5
}
