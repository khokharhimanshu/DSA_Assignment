{
 "cells": [
  {
   "cell_type": "markdown",
   "id": "bd59b217-c75f-47ba-a3e2-50ed881724e4",
   "metadata": {},
   "source": [
    "# Assignment Questions 8"
   ]
  },
  {
   "cell_type": "raw",
   "id": "b1eab575-0b2e-4f52-981a-cf34e2acc96c",
   "metadata": {},
   "source": [
    "Question 1\n",
    "Given two strings s1 and s2, return the lowest ASCII sum of deleted characters to make two strings equal.\n",
    "Example 1:\n",
    "Input: s1 = \"sea\", s2 = \"eat\"\n",
    "Output: 231\n",
    "Explanation: Deleting \"s\" from \"sea\" adds the ASCII value of \"s\" (115) to the sum.\n",
    "Deleting \"t\" from \"eat\" adds 116 to the sum.\n",
    "At the end, both strings are equal, and 115 + 116 = 231 is the minimum sum possible to achieve this."
   ]
  },
  {
   "cell_type": "code",
   "execution_count": 1,
   "id": "8281fa97-1801-44c1-ba87-6f1038059399",
   "metadata": {},
   "outputs": [],
   "source": [
    "def minimumDeleteSum(s1, s2):\n",
    "    m, n = len(s1), len(s2)\n",
    "    dp = [[0] * (n+1) for _ in range(m+1)]\n",
    "\n",
    "    # Fill the first row\n",
    "    for j in range(1, n+1):\n",
    "        dp[0][j] = dp[0][j-1] + ord(s2[j-1])\n",
    "\n",
    "    # Fill the first column\n",
    "    for i in range(1, m+1):\n",
    "        dp[i][0] = dp[i-1][0] + ord(s1[i-1])\n",
    "\n",
    "    # Fill the remaining cells\n",
    "    for i in range(1, m+1):\n",
    "        for j in range(1, n+1):\n",
    "            if s1[i-1] == s2[j-1]:\n",
    "                dp[i][j] = dp[i-1][j-1]\n",
    "            else:\n",
    "                dp[i][j] = min(dp[i-1][j] + ord(s1[i-1]), dp[i][j-1] + ord(s2[j-1]))\n",
    "\n",
    "    return dp[m][n]"
   ]
  },
  {
   "cell_type": "code",
   "execution_count": 2,
   "id": "07c670c3-645a-439b-8181-d492f5051fc5",
   "metadata": {},
   "outputs": [
    {
     "name": "stdout",
     "output_type": "stream",
     "text": [
      "231\n"
     ]
    }
   ],
   "source": [
    "s1 = \"sea\"\n",
    "s2 = \"eat\"\n",
    "result = minimumDeleteSum(s1, s2)\n",
    "print(result)"
   ]
  },
  {
   "cell_type": "raw",
   "id": "43532a2a-6c2a-414d-bb30-7a63580dfa3a",
   "metadata": {},
   "source": [
    "Question 2\n",
    "Given a string s containing only three types of characters: '(', ')' and '*', return true if s is valid.\n",
    "The following rules define a valid string:\n",
    "- Any left parenthesis '(' must have a corresponding right parenthesis ')'.\n",
    "- Any right parenthesis ')' must have a corresponding left parenthesis '('.\n",
    "- Left parenthesis '(' must go before the corresponding right parenthesis ')'.\n",
    "- could be treated as a single right parenthesis ')' or a single left parenthesis '(' or an empty string \"\".\n",
    "Example 1:\n",
    "Input: s = \"()\"\n",
    "Output:\n",
    "true"
   ]
  },
  {
   "cell_type": "code",
   "execution_count": 3,
   "id": "48247f75-43e9-4d3b-bc6d-20b03f08aa2b",
   "metadata": {},
   "outputs": [],
   "source": [
    "def checkValidString(s):\n",
    "    stack = []\n",
    "    asterisks = []\n",
    "\n",
    "    for i, char in enumerate(s):\n",
    "        if char == '(':\n",
    "            stack.append(i)\n",
    "        elif char == '*':\n",
    "            asterisks.append(i)\n",
    "        else:\n",
    "            if stack:\n",
    "                stack.pop()\n",
    "            elif asterisks:\n",
    "                asterisks.pop()\n",
    "            else:\n",
    "                return False\n",
    "\n",
    "    while stack and asterisks:\n",
    "        if stack[-1] > asterisks[-1]:\n",
    "            return False\n",
    "        stack.pop()\n",
    "        asterisks.pop()\n",
    "\n",
    "    return len(stack) == 0"
   ]
  },
  {
   "cell_type": "code",
   "execution_count": 4,
   "id": "404a79c0-4b99-490f-9714-c39ee97c7ac2",
   "metadata": {},
   "outputs": [
    {
     "name": "stdout",
     "output_type": "stream",
     "text": [
      "True\n"
     ]
    }
   ],
   "source": [
    "s = \"()\"\n",
    "result = checkValidString(s)\n",
    "print(result)\n"
   ]
  },
  {
   "cell_type": "raw",
   "id": "d1404404-4882-4832-a7c2-98712d490a4f",
   "metadata": {},
   "source": [
    "Question 3\n",
    "Given two strings word1 and word2, return the minimum number of steps required to make word1 and word2 the same.\n",
    "In one step, you can delete exactly one character in either string.\n",
    "Example 1:\n",
    "Input: word1 = \"sea\", word2 = \"eat\"\n",
    "Output: 2\n",
    "Explanation: You need one step to make \"sea\" to \"ea\" and another step to make \"eat\" to \"ea\"."
   ]
  },
  {
   "cell_type": "code",
   "execution_count": 5,
   "id": "bbe7e847-47d8-41df-91ed-b057f6854052",
   "metadata": {},
   "outputs": [],
   "source": [
    "def minDistance(word1, word2):\n",
    "    m = len(word1)\n",
    "    n = len(word2)\n",
    "\n",
    "    # Initialize a 2D array to store the LCS lengths\n",
    "    dp = [[0] * (n + 1) for _ in range(m + 1)]\n",
    "\n",
    "    # Compute the LCS lengths\n",
    "    for i in range(1, m + 1):\n",
    "        for j in range(1, n + 1):\n",
    "            if word1[i - 1] == word2[j - 1]:\n",
    "                dp[i][j] = dp[i - 1][j - 1] + 1\n",
    "            else:\n",
    "                dp[i][j] = max(dp[i - 1][j], dp[i][j - 1])\n",
    "\n",
    "    # Compute the minimum number of steps\n",
    "    lcs_length = dp[m][n]\n",
    "    steps = m + n - 2 * lcs_length\n",
    "\n",
    "    return steps"
   ]
  },
  {
   "cell_type": "code",
   "execution_count": 6,
   "id": "8879b08f-aa57-435e-a55b-b0a55d0dcfe5",
   "metadata": {},
   "outputs": [
    {
     "name": "stdout",
     "output_type": "stream",
     "text": [
      "2\n"
     ]
    }
   ],
   "source": [
    "word1 = \"sea\"\n",
    "word2 = \"eat\"\n",
    "result = minDistance(word1, word2)\n",
    "print(result)"
   ]
  },
  {
   "cell_type": "raw",
   "id": "902aac71-bcb6-4a62-bb6f-9790e0f24ee0",
   "metadata": {},
   "source": [
    "Question 4\n",
    "You need to construct a binary tree from a string consisting of parenthesis and integers.\n",
    "The whole input represents a binary tree. It contains an integer followed by zero, one or two pairs of parenthesis. The integer represents the root's value and a pair of parenthesis contains a child binary tree with the same structure.\n",
    "You always start to construct the left child node of the parent first if it exists.\n",
    "Input: s = \"4(2(3)(1))(6(5))\"\n",
    "Output: [4,2,6,3,1,5]"
   ]
  },
  {
   "cell_type": "code",
   "execution_count": 7,
   "id": "7564d92b-71cf-4f0e-8842-d75c710c8152",
   "metadata": {},
   "outputs": [],
   "source": [
    "class TreeNode:\n",
    "    def __init__(self, val=0, left=None, right=None):\n",
    "        self.val = val\n",
    "        self.left = left\n",
    "        self.right = right"
   ]
  },
  {
   "cell_type": "code",
   "execution_count": 8,
   "id": "87d37b47-126d-4309-8fac-9fdd3436f052",
   "metadata": {},
   "outputs": [],
   "source": [
    "def buildTree(s):\n",
    "    if not s:\n",
    "        return None\n",
    "\n",
    "    # Find the index of the first parenthesis\n",
    "    i = s.find('(')\n",
    "\n",
    "    if i == -1:\n",
    "        # No child nodes, the entire string represents a single node\n",
    "        return TreeNode(int(s))\n",
    "\n",
    "    # Find the value of the current node\n",
    "    val = int(s[:i])\n",
    "    j = find_matching_parenthesis(s, i)\n",
    "    left = buildTree(s[i + 1:j])\n",
    "    right = buildTree(s[j + 2:-1])\n",
    "\n",
    "    # Create the current node with the left and right subtrees\n",
    "    return TreeNode(val, left, right)\n",
    "\n",
    "def find_matching_parenthesis(s, start):\n",
    "    count = 0\n",
    "    for i in range(start, len(s)):\n",
    "        if s[i] == '(':\n",
    "            count += 1\n",
    "        elif s[i] == ')':\n",
    "            count -= 1\n",
    "            if count == 0:\n",
    "                return i\n",
    "    return -1"
   ]
  },
  {
   "cell_type": "code",
   "execution_count": 10,
   "id": "069cd07a-f1dc-4aba-b2a9-238cdabee82e",
   "metadata": {},
   "outputs": [
    {
     "name": "stdout",
     "output_type": "stream",
     "text": [
      "3 2 1 4 5 6 "
     ]
    }
   ],
   "source": [
    "s = \"4(2(3)(1))(6(5))\"\n",
    "root = buildTree(s)\n",
    "\n",
    "# Example traversal to verify the tree structure\n",
    "def inorder(node):\n",
    "    if node:\n",
    "        inorder(node.left)\n",
    "        print(node.val, end=' ')\n",
    "        inorder(node.right)\n",
    "\n",
    "inorder(root)"
   ]
  },
  {
   "cell_type": "raw",
   "id": "261c05bf-12c3-4c30-a4aa-7447c46cb9f7",
   "metadata": {},
   "source": [
    "Question 5\n",
    "Given an array of characters chars, compress it using the following algorithm:\n",
    "Begin with an empty string s. For each group of consecutive repeating characters in chars:\n",
    "- If the group's length is 1, append the character to s.\n",
    "- Otherwise, append the character followed by the group's length.\n",
    "The compressed string s should not be returned separately, but instead, be stored in the input character array chars. Note that group lengths that are 10 or longer will be split into multiple characters in chars.\n",
    "After you are done modifying the input array, return the new length of the array.\n",
    "You must write an algorithm that uses only constant extra space.\n",
    "Example 1:\n",
    "Input: chars = [\"a\",\"a\",\"b\",\"b\",\"c\",\"c\",\"c\"]\n",
    "Output: Return 6, and the first 6 characters of the input array should be: [\"a\",\"2\",\"b\",\"2\",\"c\",\"3\"]\n",
    "Explanation:\n",
    "The groups are \"aa\", \"bb\", and \"ccc\". This compresses to \"a2b2c3\"."
   ]
  },
  {
   "cell_type": "code",
   "execution_count": 11,
   "id": "33620a5c-7161-4814-ae09-7ccf73e1c557",
   "metadata": {},
   "outputs": [],
   "source": [
    "def compress(chars):\n",
    "    write = 0\n",
    "    count = 1\n",
    "    n = len(chars)\n",
    "\n",
    "    for read in range(1, n):\n",
    "        if chars[read] == chars[read - 1]:\n",
    "            count += 1\n",
    "        else:\n",
    "            chars[write] = chars[read - 1]\n",
    "            write += 1\n",
    "            if count > 1:\n",
    "                count_str = str(count)\n",
    "                for digit in count_str:\n",
    "                    chars[write] = digit\n",
    "                    write += 1\n",
    "            count = 1\n",
    "\n",
    "    chars[write] = chars[n - 1]\n",
    "    write += 1\n",
    "    if count > 1:\n",
    "        count_str = str(count)\n",
    "        for digit in count_str:\n",
    "            chars[write] = digit\n",
    "            write += 1\n",
    "\n",
    "    return write"
   ]
  },
  {
   "cell_type": "code",
   "execution_count": 12,
   "id": "fbf894f6-a467-4da5-b23a-2da4bd28ccba",
   "metadata": {},
   "outputs": [
    {
     "name": "stdout",
     "output_type": "stream",
     "text": [
      "6\n",
      "['a', '2', 'b', '2', 'c', '3']\n"
     ]
    }
   ],
   "source": [
    "chars = [\"a\",\"a\",\"b\",\"b\",\"c\",\"c\",\"c\"]\n",
    "compressed_length = compress(chars)\n",
    "compressed_chars = chars[:compressed_length]\n",
    "\n",
    "print(compressed_length)\n",
    "print(compressed_chars)"
   ]
  },
  {
   "cell_type": "raw",
   "id": "bca4707f-4c43-4248-ba73-728f379ae8f0",
   "metadata": {},
   "source": [
    "Question 6\n",
    "Given two strings s and p, return *an array of all the start indices of* p's anagrams in s. You may return the answer in any order.\n",
    "An Anagram is a word or phrase formed by rearranging the letters of a different word or phrase, typically using all the original letters exactly once.\n",
    "Example 1:\n",
    "Input: s = \"cbaebabacd\", p = \"abc\"\n",
    "Output: [0,6]\n",
    "Explanation:\n",
    "The substring with start index = 0 is \"cba\", which is an anagram of \"abc\".\n",
    "The substring with start index = 6 is \"bac\", which is an anagram of \"abc\""
   ]
  },
  {
   "cell_type": "code",
   "execution_count": 13,
   "id": "0c2ac0b5-5edc-4d75-88c5-a58625ec96f6",
   "metadata": {},
   "outputs": [],
   "source": [
    "from collections import Counter\n",
    "\n",
    "def findAnagrams(s, p):\n",
    "    p_freq = Counter(p)\n",
    "    s_freq = Counter()\n",
    "    left, right = 0, 0\n",
    "    result = []\n",
    "\n",
    "    while right < len(s):\n",
    "        s_freq[s[right]] += 1\n",
    "\n",
    "        if right - left + 1 == len(p):\n",
    "            if s_freq == p_freq:\n",
    "                result.append(left)\n",
    "            s_freq[s[left]] -= 1\n",
    "            if s_freq[s[left]] == 0:\n",
    "                del s_freq[s[left]]\n",
    "            left += 1\n",
    "\n",
    "        right += 1\n",
    "\n",
    "    return result"
   ]
  },
  {
   "cell_type": "code",
   "execution_count": 14,
   "id": "bff2e2ac-e5a2-4d70-907f-a2ab43cde689",
   "metadata": {},
   "outputs": [
    {
     "name": "stdout",
     "output_type": "stream",
     "text": [
      "[0, 6]\n"
     ]
    }
   ],
   "source": [
    "s = \"cbaebabacd\"\n",
    "p = \"abc\"\n",
    "\n",
    "indices = findAnagrams(s, p)\n",
    "print(indices)"
   ]
  },
  {
   "cell_type": "raw",
   "id": "b2c464d4-12da-4964-8b1a-32053a0a96de",
   "metadata": {},
   "source": [
    "Question 7\n",
    "Given an encoded string, return its decoded string.\n",
    "The encoding rule is: k[encoded_string], where the encoded_string inside the square brackets is being repeated exactly k times. Note that k is guaranteed to be a positive integer.\n",
    "You may assume that the input string is always valid; there are no extra white spaces, square brackets are well-formed, etc. Furthermore, you may assume that the original data does not contain any digits and that digits are only for those repeat numbers, k. For example, there will not be input like 3a or 2[4].\n",
    "The test cases are generated so that the length of the output will never exceed 105.\n",
    "Example 1:\n",
    "Input: s = \"3[a]2[bc]\"\n",
    "Output: \"aaabcbc"
   ]
  },
  {
   "cell_type": "code",
   "execution_count": 15,
   "id": "fb4b2fce-c683-4983-a64c-e803b809e7eb",
   "metadata": {},
   "outputs": [],
   "source": [
    "def decodeString(s):\n",
    "    stack = []\n",
    "    curr_str = ''\n",
    "    curr_num = 0\n",
    "\n",
    "    for char in s:\n",
    "        if char.isdigit():\n",
    "            curr_num = curr_num * 10 + int(char)\n",
    "        elif char == '[':\n",
    "            stack.append(curr_str)\n",
    "            stack.append(curr_num)\n",
    "            curr_str = ''\n",
    "            curr_num = 0\n",
    "        elif char == ']':\n",
    "            num = stack.pop()\n",
    "            prev_str = stack.pop()\n",
    "            curr_str = prev_str + num * curr_str\n",
    "        else:\n",
    "            curr_str += char\n",
    "\n",
    "    return curr_str\n"
   ]
  },
  {
   "cell_type": "code",
   "execution_count": 16,
   "id": "508ce855-cc30-47c6-8b8a-23266d481cd8",
   "metadata": {},
   "outputs": [
    {
     "name": "stdout",
     "output_type": "stream",
     "text": [
      "aaabcbc\n"
     ]
    }
   ],
   "source": [
    "s = \"3[a]2[bc]\"\n",
    "decoded_str = decodeString(s)\n",
    "print(decoded_str)"
   ]
  },
  {
   "cell_type": "raw",
   "id": "8bc4cfd3-bf55-4b93-b82b-07bd728d7b4e",
   "metadata": {},
   "source": [
    "Question 8\n",
    "Given two strings s and goal, return true if you can swap two letters in s so the result is equal to* goal, otherwise, return false.\n",
    "Swapping letters is defined as taking two indices i and j (0-indexed) such that i != j and swapping the characters at s[i] and s[j].\n",
    "- For example, swapping at indices 0 and 2 in \"abcd\" results in \"cbad\".\n",
    "Example 1:\n",
    "Input: s = \"ab\", goal = \"ba\"\n",
    "Output: true\n",
    "Explanation: You can swap s[0] = 'a' and s[1] = 'b' to get \"ba\", which is equal to goal."
   ]
  },
  {
   "cell_type": "code",
   "execution_count": null,
   "id": "cdc22c96-f7a8-4edb-87fc-6d717e04a218",
   "metadata": {},
   "outputs": [],
   "source": []
  }
 ],
 "metadata": {
  "kernelspec": {
   "display_name": "Python 3 (ipykernel)",
   "language": "python",
   "name": "python3"
  },
  "language_info": {
   "codemirror_mode": {
    "name": "ipython",
    "version": 3
   },
   "file_extension": ".py",
   "mimetype": "text/x-python",
   "name": "python",
   "nbconvert_exporter": "python",
   "pygments_lexer": "ipython3",
   "version": "3.10.6"
  }
 },
 "nbformat": 4,
 "nbformat_minor": 5
}
