{
 "cells": [
  {
   "cell_type": "markdown",
   "id": "52de3770-c5cd-4954-b468-9ca07db7bc7f",
   "metadata": {},
   "source": [
    "# DSA Assignment 20"
   ]
  },
  {
   "cell_type": "raw",
   "id": "338a6ab4-23d0-410f-8e8a-a9224622432e",
   "metadata": {},
   "source": [
    "Question-1\n",
    "Given a binary tree, your task is to find subtree with maximum sum in tree.\n",
    "Examples:\n",
    "\n",
    "Input1 :       \n",
    "\n",
    "       1\n",
    "\n",
    "     /   \\\n",
    "\n",
    "   2      3\n",
    "\n",
    "  / \\    / \\\n",
    "\n",
    "4   5  6   7\n",
    "\n",
    "Output1 : 28\n",
    "As all the tree elements are positive, the largest subtree sum is equal to sum of all tree elements.\n",
    "Input2 :\n",
    "\n",
    "       1\n",
    "\n",
    "     /    \\\n",
    "\n",
    "  -2      3\n",
    "\n",
    "  / \\    /  \\\n",
    "\n",
    "4   5  -6   2\n",
    "\n",
    "Output2 : 7\n",
    "\n",
    "Subtree with largest sum is :\n",
    "\n",
    " -2\n",
    "\n",
    " / \\\n",
    "\n",
    "4   5\n",
    "\n",
    "Also, entire tree sum is also 7."
   ]
  },
  {
   "cell_type": "code",
   "execution_count": 1,
   "id": "de08947d-1331-41e2-8f31-f962aba3642d",
   "metadata": {},
   "outputs": [
    {
     "name": "stdout",
     "output_type": "stream",
     "text": [
      "Maximum subtree sum: 28\n"
     ]
    }
   ],
   "source": [
    "class TreeNode:\n",
    "    def __init__(self, val):\n",
    "        self.val = val\n",
    "        self.left = None\n",
    "        self.right = None\n",
    "\n",
    "def findMaxSubtreeSum(root):\n",
    "    max_sum = float('-inf')  \n",
    "    _, max_sum = findMaxSubtreeSumRecursive(root, max_sum)\n",
    "    return max_sum\n",
    "\n",
    "def findMaxSubtreeSumRecursive(node, max_sum):\n",
    "    if node is None:\n",
    "        return 0, max_sum\n",
    "\n",
    "    left_sum, max_sum = findMaxSubtreeSumRecursive(node.left, max_sum)\n",
    "    right_sum, max_sum = findMaxSubtreeSumRecursive(node.right, max_sum)\n",
    "\n",
    "    subtree_sum = node.val + left_sum + right_sum\n",
    "    max_sum = max(max_sum, subtree_sum)\n",
    "\n",
    "    return subtree_sum, max_sum\n",
    "\n",
    "root = TreeNode(1)\n",
    "root.left = TreeNode(2)\n",
    "root.right = TreeNode(3)\n",
    "root.left.left = TreeNode(4)\n",
    "root.left.right = TreeNode(5)\n",
    "root.right.left = TreeNode(6)\n",
    "root.right.right = TreeNode(7)\n",
    "\n",
    "max_sum = findMaxSubtreeSum(root)\n",
    "print(\"Maximum subtree sum:\", max_sum)"
   ]
  },
  {
   "cell_type": "raw",
   "id": "2fc84e29-460d-4fbd-b9d5-7d02ee128d5d",
   "metadata": {},
   "source": [
    "Question-2\n",
    "Construct the BST (Binary Search Tree) from its given level order traversal.\n",
    "Example:\n",
    "Input: arr[] = {7, 4, 12, 3, 6, 8, 1, 5, 10}\n",
    "Output: BST:\n",
    "\n",
    "            7\n",
    "\n",
    "         /    \\\n",
    "\n",
    "       4     12\n",
    "\n",
    "     /  \\     /\n",
    "\n",
    "    3   6  8\n",
    "\n",
    "   /    /     \\\n",
    "\n",
    " 1    5      10"
   ]
  },
  {
   "cell_type": "code",
   "execution_count": null,
   "id": "9f527038-e279-469a-9d77-3ec086985c8e",
   "metadata": {},
   "outputs": [],
   "source": []
  }
 ],
 "metadata": {
  "kernelspec": {
   "display_name": "Python 3 (ipykernel)",
   "language": "python",
   "name": "python3"
  },
  "language_info": {
   "codemirror_mode": {
    "name": "ipython",
    "version": 3
   },
   "file_extension": ".py",
   "mimetype": "text/x-python",
   "name": "python",
   "nbconvert_exporter": "python",
   "pygments_lexer": "ipython3",
   "version": "3.10.6"
  }
 },
 "nbformat": 4,
 "nbformat_minor": 5
}
