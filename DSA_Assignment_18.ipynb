{
 "cells": [
  {
   "cell_type": "markdown",
   "id": "93fa125f-5bc9-41d0-b58c-0bd98d02b2e7",
   "metadata": {},
   "source": [
    "# Assignment Question 18"
   ]
  },
  {
   "cell_type": "raw",
   "id": "60021a9a-d6d6-4a3f-9764-8da623311cc1",
   "metadata": {},
   "source": [
    "1. Merge Intervals\n",
    "Given an array of `intervals` where `intervals[i] = [starti, endi]`, merge all overlapping intervals, and return an array of the non-overlapping intervals that cover all the intervals in the input.\n",
    "Example 1:\n",
    "Input: intervals = [[1,3],[2,6],[8,10],[15,18]]\n",
    "Output: [[1,6],[8,10],[15,18]]\n",
    "Explanation: Since intervals [1,3] and [2,6] overlap, merge them into [1,6].\n",
    "Example 2:\n",
    "Input: intervals = [[1,4],[4,5]]\n",
    "Output: [[1,5]]\n",
    "Explanation: Intervals [1,4] and [4,5] are considered overlapping.\n",
    "Constraints:\n",
    "- `1 <= intervals.length <= 10000`\n",
    "- `intervals[i].length == 2`\n",
    "- `0 <= starti <= endi <= 10000`"
   ]
  },
  {
   "cell_type": "code",
   "execution_count": 2,
   "id": "fa14439e-59e0-4f43-9a72-54847f67120a",
   "metadata": {},
   "outputs": [],
   "source": [
    "def merge_intervals(intervals):\n",
    "    intervals.sort(key=lambda x: x[0])\n",
    "\n",
    "    merged = []\n",
    "    for interval in intervals:\n",
    "        if not merged or interval[0] > merged[-1][1]:\n",
    "            merged.append(interval)\n",
    "        else:\n",
    "            merged[-1][1] = max(merged[-1][1], interval[1])\n",
    "\n",
    "    return merged"
   ]
  },
  {
   "cell_type": "code",
   "execution_count": 3,
   "id": "b94ddbd8-a630-4ecd-ae58-ee7b6bed7ed9",
   "metadata": {},
   "outputs": [
    {
     "name": "stdout",
     "output_type": "stream",
     "text": [
      "[[1, 6], [8, 10], [15, 18]]\n",
      "[[1, 5]]\n"
     ]
    }
   ],
   "source": [
    "intervals1 = [[1, 3], [2, 6], [8, 10], [15, 18]]\n",
    "print(merge_intervals(intervals1)) \n",
    "\n",
    "intervals2 = [[1, 4], [4, 5]]\n",
    "print(merge_intervals(intervals2))  "
   ]
  },
  {
   "cell_type": "raw",
   "id": "df170826-67da-448b-b05b-c7fb513cca52",
   "metadata": {},
   "source": [
    "2. Sort Colors\n",
    "Given an array `nums` with `n` objects colored red, white, or blue, sort them **[in-place](https://en.wikipedia.org/wiki/In-place_algorithm)** so that objects of the same color are adjacent, with the colors in the order red, white, and blue.\n",
    "We will use the integers `0`, `1`, and `2` to represent the color red, white, and blue, respectively.\n",
    "You must solve this problem without using the library's sort function.\n",
    "Example 1:\n",
    "Input: nums = [2,0,2,1,1,0]\n",
    "Output: [0,0,1,1,2,2]\n",
    "Example 2:\n",
    "Input: nums = [2,0,1]\n",
    "Output: [0,1,2]\n",
    "Constraints:\n",
    "\n",
    "- `n == nums.length`\n",
    "- `1 <= n <= 300`\n",
    "- `nums[i]` is either `0`, `1`, or `2`."
   ]
  },
  {
   "cell_type": "code",
   "execution_count": 4,
   "id": "0f926413-b31a-49f6-9c30-6a6617a3173f",
   "metadata": {},
   "outputs": [],
   "source": [
    "def sort_colors(nums):\n",
    "    low = 0         \n",
    "    mid = 0        \n",
    "    high = len(nums) - 1 \n",
    "\n",
    "    while mid <= high:\n",
    "        if nums[mid] == 0:\n",
    "            nums[low], nums[mid] = nums[mid], nums[low]\n",
    "            low += 1\n",
    "            mid += 1\n",
    "        elif nums[mid] == 1:\n",
    "            mid += 1\n",
    "        else:\n",
    "            nums[mid], nums[high] = nums[high], nums[mid]\n",
    "            high -= 1\n",
    "    \n",
    "    return nums"
   ]
  },
  {
   "cell_type": "code",
   "execution_count": 5,
   "id": "e7d33a91-eddf-4f09-9902-100ae05a393d",
   "metadata": {},
   "outputs": [
    {
     "name": "stdout",
     "output_type": "stream",
     "text": [
      "[0, 0, 1, 1, 2, 2]\n",
      "[0, 1, 2]\n"
     ]
    }
   ],
   "source": [
    "nums1 = [2, 0, 2, 1, 1, 0]\n",
    "print(sort_colors(nums1))  \n",
    "\n",
    "nums2 = [2, 0, 1]\n",
    "print(sort_colors(nums2))  "
   ]
  },
  {
   "cell_type": "raw",
   "id": "ed9d08f2-3b4e-42bf-a8d8-c787775d2eca",
   "metadata": {},
   "source": [
    "3. First Bad Version Solution\n",
    "You are a product manager and currently leading a team to develop a new product. Unfortunately, the latest version of your product fails the quality check. Since each version is developed based on the previous version, all the versions after a bad version are also bad.\n",
    "Suppose you have `n` versions `[1, 2, ..., n]` and you want to find out the first bad one, which causes all the following ones to be bad.\n",
    "You are given an API `bool isBadVersion(version)` which returns whether `version` is bad. Implement a function to find the first bad version. You should minimize the number of calls to the API.\n",
    "Example 1:\n",
    "Input: n = 5, bad = 4\n",
    "Output: 4\n",
    "Explanation:\n",
    "call isBadVersion(3) -> false\n",
    "call isBadVersion(5) -> true\n",
    "call isBadVersion(4) -> true\n",
    "Then 4 is the first bad version.\n",
    "Example 2:\n",
    "Input: n = 1, bad = 1\n",
    "Output: 1\n",
    "Constraints:\n",
    "\n",
    "- `1 <= bad <= n <= 2^31 - 1`"
   ]
  },
  {
   "cell_type": "code",
   "execution_count": 9,
   "id": "7285ebd1-d053-43ce-9e97-08ed2d1c00b0",
   "metadata": {},
   "outputs": [
    {
     "name": "stdout",
     "output_type": "stream",
     "text": [
      "5\n",
      "1\n"
     ]
    }
   ],
   "source": [
    "def first_bad_version(n):\n",
    "    left = 1\n",
    "    right = n\n",
    "    \n",
    "    while left < right:\n",
    "        mid = left + (right - left) // 2\n",
    "        if isBadVersion(mid):\n",
    "            right = mid\n",
    "        else:\n",
    "            left = mid + 1\n",
    "    \n",
    "    return left\n",
    "\n",
    "def isBadVersion(version):\n",
    "    pass\n",
    "\n",
    "n1 = 5\n",
    "bad1 = 4\n",
    "print(first_bad_version(n1))  \n",
    "\n",
    "n2 = 1\n",
    "bad2 = 1\n",
    "print(first_bad_version(n2))  "
   ]
  },
  {
   "cell_type": "raw",
   "id": "92ee7ccd-db37-4fcc-8cd9-a2ac1e662a89",
   "metadata": {},
   "source": [
    "4. Maximum Gap\n",
    "\n",
    "Given an integer array `nums`, return *the maximum difference between two successive elements in its sorted form*. If the array contains less than two elements, return `0`.\n",
    "\n",
    "You must write an algorithm that runs in linear time and uses linear extra space.\n",
    "\n",
    "Example 1:\n",
    "Input: nums = [3,6,9,1]\n",
    "Output: 3\n",
    "Explanation: The sorted form of the array is [1,3,6,9], either (3,6) or (6,9) has the maximum difference 3.\n",
    "Example 2:\n",
    "Input: nums = [10]\n",
    "Output: 0\n",
    "Explanation: The array contains less than 2 elements, therefore return 0.\n",
    "Constraints:\n",
    "\n",
    "- `1 <= nums.length <= 10^5`\n",
    "- `0 <= nums[i] <= 10^9`"
   ]
  },
  {
   "cell_type": "code",
   "execution_count": 10,
   "id": "f68fb0f2-935b-4c6f-9c69-989c1c414b27",
   "metadata": {},
   "outputs": [
    {
     "name": "stdout",
     "output_type": "stream",
     "text": [
      "3\n",
      "0\n"
     ]
    }
   ],
   "source": [
    "def maximumGap(nums):\n",
    "    if len(nums) < 2:\n",
    "        return 0\n",
    "\n",
    "    max_val = max(nums)\n",
    "    min_val = min(nums)\n",
    "\n",
    "    bucket_size = max(1, (max_val - min_val) // (len(nums) - 1))\n",
    "\n",
    "    num_buckets = (max_val - min_val) // bucket_size + 1\n",
    "\n",
    "    buckets = [[float('inf'), float('-inf')] for _ in range(num_buckets)]\n",
    "\n",
    "    for num in nums:\n",
    "        index = (num - min_val) // bucket_size\n",
    "        buckets[index][0] = min(buckets[index][0], num)\n",
    "        buckets[index][1] = max(buckets[index][1], num)\n",
    "\n",
    "    max_gap = 0\n",
    "    prev_max = min_val\n",
    "    for bucket in buckets:\n",
    "        if bucket[0] == float('inf') and bucket[1] == float('-inf'):\n",
    "            continue\n",
    "        max_gap = max(max_gap, bucket[0] - prev_max)\n",
    "        prev_max = bucket[1]\n",
    "\n",
    "    return max_gap\n",
    "\n",
    "nums1 = [3, 6, 9, 1]\n",
    "print(maximumGap(nums1))  \n",
    "\n",
    "nums2 = [10]\n",
    "print(maximumGap(nums2))  "
   ]
  },
  {
   "cell_type": "raw",
   "id": "51a4e236-b1c7-4f15-959e-fd0bcf69be70",
   "metadata": {},
   "source": [
    "5. Contains Duplicate\n",
    "Given an integer array `nums`, return `true` if any value appears **at least twice** in the array, and return `false` if every element is distinct.\n",
    "\n",
    "Example 1:\n",
    "Input: nums = [1,2,3,1]\n",
    "Output: true\n",
    "Example 2:\n",
    "Input: nums = [1,2,3,4]\n",
    "Output: false\n",
    "Example 3:\n",
    "Input: nums = [1,1,1,3,3,4,3,2,4,2]\n",
    "Output: true\n",
    "Constraints:\n",
    "\n",
    "- `1 <= nums.length <= 10^5`\n",
    "- `109 <= nums[i] <= 10^9`"
   ]
  },
  {
   "cell_type": "code",
   "execution_count": 11,
   "id": "ea36e662-e83b-4d50-8967-32c8825a0f9f",
   "metadata": {},
   "outputs": [
    {
     "name": "stdout",
     "output_type": "stream",
     "text": [
      "True\n",
      "False\n",
      "True\n"
     ]
    }
   ],
   "source": [
    "def containsDuplicate(nums):\n",
    "    num_set = set()\n",
    "\n",
    "    for num in nums:\n",
    "        if num in num_set:\n",
    "            return True\n",
    "        num_set.add(num)\n",
    "\n",
    "    return False\n",
    "\n",
    "nums1 = [1, 2, 3, 1]\n",
    "print(containsDuplicate(nums1))  \n",
    "\n",
    "nums2 = [1, 2, 3, 4]\n",
    "print(containsDuplicate(nums2))  \n",
    "\n",
    "nums3 = [1, 1, 1, 3, 3, 4, 3, 2, 4, 2]\n",
    "print(containsDuplicate(nums3))  "
   ]
  },
  {
   "cell_type": "raw",
   "id": "67a6e5ab-c85c-4958-bf05-98ef38dc8802",
   "metadata": {},
   "source": [
    "6. Minimum Number of Arrows to Burst Balloons\n",
    "There are some spherical balloons taped onto a flat wall that represents the XY-plane. The balloons are represented as a 2D integer array `points` where `points[i] = [xstart, xend]` denotes a balloon whose **horizontal diameter** stretches between `xstart` and `xend`. You do not know the exact y-coordinates of the balloons.\n",
    "\n",
    "Arrows can be shot up directly vertically (in the positive y-direction) from different points along the x-axis. A balloon with `xstart` and `xend` is burst by an arrow shot at `x` if `xstart <= x <= xend`. There is **no limit** to the number of arrows that can be shot. A shot arrow keeps traveling up infinitely, bursting any balloons in its path.\n",
    "\n",
    "Given the array `points`, return the minimum number of arrows that must be shot to burst all balloons.\n",
    "Example 1:\n",
    "Input: points = [[10,16],[2,8],[1,6],[7,12]]\n",
    "Output: 2\n",
    "Explanation: The balloons can be burst by 2 arrows:\n",
    "- Shoot an arrow at x = 6, bursting the balloons [2,8] and [1,6].\n",
    "- Shoot an arrow at x = 11, bursting the balloons [10,16] and [7,12].\n",
    "Example 2:\n",
    "Input: points = [[1,2],[3,4],[5,6],[7,8]]\n",
    "Output: 4\n",
    "Explanation: One arrow needs to be shot for each balloon for a total of 4 arrows.\n",
    "Example 3:\n",
    "Input: points = [[1,2],[2,3],[3,4],[4,5]]\n",
    "Output: 2\n",
    "Explanation: The balloons can be burst by 2 arrows:\n",
    "- Shoot an arrow at x = 2, bursting the balloons [1,2] and [2,3].\n",
    "- Shoot an arrow at x = 4, bursting the balloons [3,4] and [4,5].\n",
    "Constraints:\n",
    "\n",
    "- `1 <= points.length <= 10^5`\n",
    "- `points[i].length == 2`\n",
    "- `231 <= xstart < xend <= 2^31 - 1`"
   ]
  },
  {
   "cell_type": "code",
   "execution_count": 12,
   "id": "3d1d9c63-48bb-4194-968d-73d8c171e7d1",
   "metadata": {},
   "outputs": [
    {
     "name": "stdout",
     "output_type": "stream",
     "text": [
      "2\n",
      "4\n",
      "2\n"
     ]
    }
   ],
   "source": [
    "def findMinArrowShots(points):\n",
    "    if not points:\n",
    "        return 0\n",
    "\n",
    "    points.sort(key=lambda x: x[1])  \n",
    "    arrow_pos = points[0][1]  \n",
    "    arrow_count = 1\n",
    "\n",
    "    for i in range(1, len(points)):\n",
    "        if points[i][0] > arrow_pos:  \n",
    "            arrow_count += 1\n",
    "            arrow_pos = points[i][1]\n",
    "        else:\n",
    "            arrow_pos = min(arrow_pos, points[i][1])\n",
    "\n",
    "    return arrow_count\n",
    "\n",
    "points1 = [[10, 16], [2, 8], [1, 6], [7, 12]]\n",
    "print(findMinArrowShots(points1))  \n",
    "\n",
    "points2 = [[1, 2], [3, 4], [5, 6], [7, 8]]\n",
    "print(findMinArrowShots(points2))  \n",
    "\n",
    "points3 = [[1, 2], [2, 3], [3, 4], [4, 5]]\n",
    "print(findMinArrowShots(points3))  "
   ]
  },
  {
   "cell_type": "raw",
   "id": "dcb573b8-6585-4c9b-91ea-4ef6a138d289",
   "metadata": {},
   "source": [
    "7. Longest Increasing Subsequence\n",
    "Given an integer array `nums`, return the length of the longest strictly increasing subsequence\n",
    "Example 1:\n",
    "Input: nums = [10,9,2,5,3,7,101,18]\n",
    "Output: 4\n",
    "Explanation: The longest increasing subsequence is [2,3,7,101], therefore the length is 4.\n",
    "Example 2:\n",
    "Input: nums = [0,1,0,3,2,3]\n",
    "Output: 4\n",
    "Example 3:\n",
    "Input: nums = [7,7,7,7,7,7,7]\n",
    "Output: 1\n",
    "Constraints:\n",
    "\n",
    "- `1 <= nums.length <= 2500`\n",
    "- `-10^4 <= nums[i] <= 10^4`"
   ]
  },
  {
   "cell_type": "code",
   "execution_count": 13,
   "id": "29b29dd1-2877-4062-9092-3664bb2a4c48",
   "metadata": {},
   "outputs": [
    {
     "name": "stdout",
     "output_type": "stream",
     "text": [
      "4\n",
      "4\n",
      "1\n"
     ]
    }
   ],
   "source": [
    "def lengthOfLIS(nums):\n",
    "    if not nums:\n",
    "        return 0\n",
    "\n",
    "    n = len(nums)\n",
    "    dp = [1] * n  \n",
    "\n",
    "    for i in range(1, n):\n",
    "        for j in range(i):\n",
    "            if nums[i] > nums[j]:\n",
    "                dp[i] = max(dp[i], dp[j] + 1)\n",
    "\n",
    "    return max(dp)\n",
    "\n",
    "nums1 = [10, 9, 2, 5, 3, 7, 101, 18]\n",
    "print(lengthOfLIS(nums1))  \n",
    "\n",
    "nums2 = [0, 1, 0, 3, 2, 3]\n",
    "print(lengthOfLIS(nums2))  \n",
    "\n",
    "nums3 = [7, 7, 7, 7, 7, 7, 7]\n",
    "print(lengthOfLIS(nums3))  "
   ]
  },
  {
   "cell_type": "raw",
   "id": "c5c1d3b8-2792-48ac-a292-ee8711934e6e",
   "metadata": {},
   "source": [
    "8. 132 Pattern\n",
    "Given an array of `n` integers `nums`, a 132 pattern is a subsequence of three integers `nums[i]`, `nums[j]` and `nums[k]` such that `i < j < k` and `nums[i] < nums[k] < nums[j]`.\n",
    "\n",
    "Return `true` if there is a 132 pattern in `nums`, otherwise, return `false`.\n",
    "\n",
    "Example 1:\n",
    "Input: nums = [1,2,3,4]\n",
    "Output: false\n",
    "Explanation: There is no 132 pattern in the sequence.\n",
    "Example 2:\n",
    "Input: nums = [3,1,4,2]\n",
    "Output: true\n",
    "Explanation: There is a 132 pattern in the sequence: [1, 4, 2].\n",
    "Example 3:\n",
    "Input: nums = [-1,3,2,0]\n",
    "Output: true\n",
    "Explanation: There are three 132 patterns in the sequence: [-1, 3, 2], [-1, 3, 0] and [-1, 2, 0].\n",
    "Constraints:\n",
    "\n",
    "- `n == nums.length`\n",
    "- `1 <= n <= 2 * 10^5`\n",
    "- `-10^9 <= nums[i] <= 10^9`"
   ]
  },
  {
   "cell_type": "code",
   "execution_count": 14,
   "id": "cc7ad4ce-8d3e-4319-9ae7-a1614772d8c6",
   "metadata": {},
   "outputs": [
    {
     "name": "stdout",
     "output_type": "stream",
     "text": [
      "False\n",
      "True\n",
      "True\n"
     ]
    }
   ],
   "source": [
    "def find132pattern(nums):\n",
    "    stack = []\n",
    "    max_val = float('-inf')\n",
    "\n",
    "    for i in range(len(nums) - 1, -1, -1):\n",
    "        if nums[i] < max_val:\n",
    "            return True\n",
    "\n",
    "        while stack and stack[-1] < nums[i]:\n",
    "            max_val = max(max_val, stack.pop())\n",
    "\n",
    "        stack.append(nums[i])\n",
    "\n",
    "    return False\n",
    "\n",
    "\n",
    "nums1 = [1, 2, 3, 4]\n",
    "print(find132pattern(nums1))  \n",
    "\n",
    "nums2 = [3, 1, 4, 2]\n",
    "print(find132pattern(nums2))  \n",
    "\n",
    "nums3 = [-1, 3, 2, 0]\n",
    "print(find132pattern(nums3))  "
   ]
  },
  {
   "cell_type": "code",
   "execution_count": null,
   "id": "8c7d8d2a-0abd-48cc-bde9-aa128fc14ebd",
   "metadata": {},
   "outputs": [],
   "source": []
  }
 ],
 "metadata": {
  "kernelspec": {
   "display_name": "Python 3 (ipykernel)",
   "language": "python",
   "name": "python3"
  },
  "language_info": {
   "codemirror_mode": {
    "name": "ipython",
    "version": 3
   },
   "file_extension": ".py",
   "mimetype": "text/x-python",
   "name": "python",
   "nbconvert_exporter": "python",
   "pygments_lexer": "ipython3",
   "version": "3.10.6"
  }
 },
 "nbformat": 4,
 "nbformat_minor": 5
}
