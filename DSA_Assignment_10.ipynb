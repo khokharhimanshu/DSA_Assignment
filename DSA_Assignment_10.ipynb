{
 "cells": [
  {
   "cell_type": "markdown",
   "id": "188f5f64-240e-4de8-802a-eef0c780642b",
   "metadata": {},
   "source": [
    "# Assignment Question 10"
   ]
  },
  {
   "cell_type": "raw",
   "id": "99812a80-5d56-4cb7-abba-2c131bcb5105",
   "metadata": {},
   "source": [
    "Question 1\n",
    "Given an integer `n`, return `true` if it is a power of three. Otherwise, return `false`.\n",
    "An integer `n` is a power of three, if there exists an integer `x` such that `n == 3x`.\n",
    "Example 1:\n",
    "Input: n = 27\n",
    "Output: true\n",
    "Explanation: 27 = 33\n",
    "Example 2:\n",
    "Input: n = 0\n",
    "Output: false\n",
    "Explanation: There is no x where 3x = 0.\n",
    "Example 3:\n",
    "Input: n = -1\n",
    "Output: false\n",
    "Explanation: There is no x where 3x = (-1)."
   ]
  },
  {
   "cell_type": "code",
   "execution_count": 1,
   "id": "72eac4cd-7c6b-49ef-80e2-f10db05aee17",
   "metadata": {},
   "outputs": [
    {
     "name": "stdout",
     "output_type": "stream",
     "text": [
      "True\n",
      "False\n",
      "False\n"
     ]
    }
   ],
   "source": [
    "def isPowerOfThree(n):\n",
    "    if n <= 0:\n",
    "        return False\n",
    "    while n % 3 == 0:\n",
    "        n //= 3\n",
    "    return n == 1\n",
    "\n",
    "# Example 1\n",
    "n = 27\n",
    "print(isPowerOfThree(n))  \n",
    "\n",
    "# Example 2\n",
    "n = 0\n",
    "print(isPowerOfThree(n))  \n",
    "\n",
    "# Example 3\n",
    "n = -1\n",
    "print(isPowerOfThree(n))  "
   ]
  },
  {
   "cell_type": "raw",
   "id": "efa6644d-b382-4600-89a0-abcc11e8cfa2",
   "metadata": {},
   "source": [
    "Question 3\n",
    "Given a set represented as a string, write a recursive code to print all subsets of it. The subsets can be printed in any order.\n",
    "Example 1:\n",
    "Input :  set = “abc\"\n",
    "Output : { “”, “a”, “b”, “c”, “ab”, “ac”, “bc”, “abc”}\n",
    "Example 2:\n",
    "Input : set = “abcd”\n",
    "Output : { “”, “a” ,”ab” ,”abc” ,”abcd”, “abd” ,”ac” ,”acd”, “ad” ,”b”, “bc” ,”bcd” ,”bd” ,”c” ,”cd” ,”d” }"
   ]
  },
  {
   "cell_type": "code",
   "execution_count": 2,
   "id": "f2ad463d-9c05-4f4f-9b94-4ebcb45081ac",
   "metadata": {},
   "outputs": [
    {
     "name": "stdout",
     "output_type": "stream",
     "text": [
      "abc\n",
      "ab\n",
      "ac\n",
      "a\n",
      "bc\n",
      "b\n",
      "c\n",
      "\n",
      "abcd\n",
      "abc\n",
      "abd\n",
      "ab\n",
      "acd\n",
      "ac\n",
      "ad\n",
      "a\n",
      "bcd\n",
      "bc\n",
      "bd\n",
      "b\n",
      "cd\n",
      "c\n",
      "d\n",
      "\n"
     ]
    }
   ],
   "source": [
    "def generateSubsets(s, subset, index):\n",
    "    if index == len(s):\n",
    "        print(subset)\n",
    "    else:\n",
    "        \n",
    "        generateSubsets(s, subset + s[index], index + 1)\n",
    "        generateSubsets(s, subset, index + 1)\n",
    "\n",
    "# Example 1\n",
    "set_str = \"abc\"\n",
    "generateSubsets(set_str, \"\", 0)\n",
    "\n",
    "# Example 2\n",
    "set_str = \"abcd\"\n",
    "generateSubsets(set_str, \"\", 0)"
   ]
  },
  {
   "cell_type": "raw",
   "id": "1b763593-a981-4050-ab75-9035f144bc77",
   "metadata": {},
   "source": [
    "Question 4\n",
    "Given a string calculate length of the string using recursion.\n",
    "Examples:\n",
    "Input : str = \"abcd\"\n",
    "Output :4\n",
    "\n",
    "Input : str = \"GEEKSFORGEEKS\"\n",
    "Output :13"
   ]
  },
  {
   "cell_type": "code",
   "execution_count": 3,
   "id": "72fd339f-658c-4012-a3bb-cda67c49dbfd",
   "metadata": {},
   "outputs": [
    {
     "name": "stdout",
     "output_type": "stream",
     "text": [
      "4\n",
      "13\n"
     ]
    }
   ],
   "source": [
    "def calculateStringLength(string):\n",
    "    if string == \"\":\n",
    "        return 0\n",
    "    else:\n",
    "        return 1 + calculateStringLength(string[1:])\n",
    "\n",
    "# Example 1\n",
    "str1 = \"abcd\"\n",
    "print(calculateStringLength(str1))  \n",
    "\n",
    "# Example 2\n",
    "str2 = \"GEEKSFORGEEKS\"\n",
    "print(calculateStringLength(str2))  "
   ]
  },
  {
   "cell_type": "raw",
   "id": "57e4ef60-ee50-4898-86b3-74e050547f99",
   "metadata": {},
   "source": [
    "Question 5\n",
    "We are given a string S, we need to find count of all contiguous substrings starting and ending with same character.\n",
    "Examples :\n",
    "Input  : S = \"abcab\"\n",
    "Output : 7\n",
    "There are 15 substrings of \"abcab\"\n",
    "a, ab, abc, abca, abcab, b, bc, bca\n",
    "bcab, c, ca, cab, a, ab, b\n",
    "Out of the above substrings, there\n",
    "are 7 substrings : a, abca, b, bcab,\n",
    "c, a and b.\n",
    "\n",
    "Input  : S = \"aba\"\n",
    "Output : 4\n",
    "The substrings are a, b, a and aba"
   ]
  },
  {
   "cell_type": "code",
   "execution_count": 4,
   "id": "1f7eb1ca-219c-46cf-861a-78f653d15a12",
   "metadata": {},
   "outputs": [
    {
     "name": "stdout",
     "output_type": "stream",
     "text": [
      "5\n",
      "4\n"
     ]
    }
   ],
   "source": [
    "def countSubstrings(s):\n",
    "    count = 0\n",
    "    n = len(s)\n",
    "\n",
    "    for i in range(n):\n",
    "        count += 1  # Single character substring\n",
    "        left = i - 1\n",
    "        right = i + 1\n",
    "\n",
    "        while left >= 0 and right < n and s[left] == s[right]:\n",
    "            count += 1\n",
    "            left -= 1\n",
    "            right += 1\n",
    "\n",
    "    return count\n",
    "\n",
    "# Example 1\n",
    "S = \"abcab\"\n",
    "print(countSubstrings(S))  \n",
    "\n",
    "# Example 2\n",
    "S = \"aba\"\n",
    "print(countSubstrings(S))  "
   ]
  },
  {
   "cell_type": "raw",
   "id": "a08d9db4-55de-4e94-8078-758a34fdb6ae",
   "metadata": {},
   "source": [
    "Question 6\n",
    "The [tower of Hanoi](https://en.wikipedia.org/wiki/Tower_of_Hanoi) is a famous puzzle where we have three rods and N disks. The objective of the puzzle is to move the entire stack to another rod. You are given the number of discs N. Initially, these discs are in the rod 1. You need to print all the steps of discs movement so that all the discs reach the 3rd rod. Also, you need to find the total moves.Note: The discs are arranged such that the top disc is numbered 1 and the bottom-most disc is numbered N. Also, all the discs have different sizes and a bigger disc cannot be put on the top of a smaller disc. Refer the provided link to get a better clarity about the puzzle.\n",
    "\n",
    "Example 1:\n",
    "Input:\n",
    "N = 2\n",
    "Output:\n",
    "move disk 1 from rod 1 to rod 2\n",
    "move disk 2 from rod 1 to rod 3\n",
    "move disk 1 from rod 2 to rod 3\n",
    "3\n",
    "Explanation:For N=2 , steps will be\n",
    "as follows in the example and total\n",
    "3 steps will be taken.\n",
    "Example 2:\n",
    "Input:\n",
    "N = 3\n",
    "Output:\n",
    "move disk 1 from rod 1 to rod 3\n",
    "move disk 2 from rod 1 to rod 2\n",
    "move disk 1 from rod 3 to rod 2\n",
    "move disk 3 from rod 1 to rod 3\n",
    "move disk 1 from rod 2 to rod 1\n",
    "move disk 2 from rod 2 to rod 3\n",
    "move disk 1 from rod 1 to rod 3\n",
    "7\n",
    "Explanation:For N=3 , steps will be\n",
    "as follows in the example and total\n",
    "7 steps will be taken."
   ]
  },
  {
   "cell_type": "code",
   "execution_count": 5,
   "id": "ffa817b7-b64f-488a-9abd-d444bcfd4429",
   "metadata": {},
   "outputs": [
    {
     "name": "stdout",
     "output_type": "stream",
     "text": [
      "Move disk 1 from rod 1 to rod 2\n",
      "Move disk 2 from rod 1 to rod 3\n",
      "Move disk 1 from rod 2 to rod 3\n",
      "Total moves: 3\n"
     ]
    }
   ],
   "source": [
    "def towerOfHanoi(n, source, auxiliary, destination):\n",
    "    if n == 1:\n",
    "        print(\"Move disk 1 from rod\", source, \"to rod\", destination)\n",
    "        return 1\n",
    "    else:\n",
    "        count = 0\n",
    "        count += towerOfHanoi(n-1, source, destination, auxiliary)\n",
    "        print(\"Move disk\", n, \"from rod\", source, \"to rod\", destination)\n",
    "        count += 1\n",
    "        count += towerOfHanoi(n-1, auxiliary, source, destination)\n",
    "        return count\n",
    "\n",
    "# Example\n",
    "N = 2\n",
    "total_moves = towerOfHanoi(N, 1, 2, 3)\n",
    "print(\"Total moves:\", total_moves)"
   ]
  },
  {
   "cell_type": "code",
   "execution_count": 6,
   "id": "f39860b9-8715-4610-a907-769acf8a7b97",
   "metadata": {},
   "outputs": [
    {
     "name": "stdout",
     "output_type": "stream",
     "text": [
      "Move disk 1 from rod 1 to rod 3\n",
      "Move disk 2 from rod 1 to rod 2\n",
      "Move disk 1 from rod 3 to rod 2\n",
      "Move disk 3 from rod 1 to rod 3\n",
      "Move disk 1 from rod 2 to rod 1\n",
      "Move disk 2 from rod 2 to rod 3\n",
      "Move disk 1 from rod 1 to rod 3\n",
      "Total moves: 7\n"
     ]
    }
   ],
   "source": [
    "def towerOfHanoi(n, source, auxiliary, destination):\n",
    "    if n == 1:\n",
    "        print(\"Move disk 1 from rod\", source, \"to rod\", destination)\n",
    "        return 1\n",
    "    else:\n",
    "        count = 0\n",
    "        count += towerOfHanoi(n-1, source, destination, auxiliary)\n",
    "        print(\"Move disk\", n, \"from rod\", source, \"to rod\", destination)\n",
    "        count += 1\n",
    "        count += towerOfHanoi(n-1, auxiliary, source, destination)\n",
    "        return count\n",
    "\n",
    "# Example\n",
    "N = 3\n",
    "total_moves = towerOfHanoi(N, 1, 2, 3)\n",
    "print(\"Total moves:\", total_moves)"
   ]
  },
  {
   "cell_type": "raw",
   "id": "6b0e7646-4835-4c7d-9387-72015257057a",
   "metadata": {},
   "source": [
    "Question 7\n",
    "Given a string str, the task is to print all the permutations of str. A permutation  is an arrangement of all or part of a set of objects, with regard to the order of the arrangement. For instance, the words ‘bat’ and ‘tab’ represents two distinct permutation (or arrangements) of a similar three letter word.\n",
    "Examples:\n",
    "Input: str = “cd” \n",
    "Output: cd dc\n",
    "Input: str = “abb” \n",
    "Output: abb abb bab bba bab bba"
   ]
  },
  {
   "cell_type": "code",
   "execution_count": null,
   "id": "0adb8890-05d0-4efd-8fcc-41ae15b0b702",
   "metadata": {},
   "outputs": [],
   "source": []
  }
 ],
 "metadata": {
  "kernelspec": {
   "display_name": "Python 3 (ipykernel)",
   "language": "python",
   "name": "python3"
  },
  "language_info": {
   "codemirror_mode": {
    "name": "ipython",
    "version": 3
   },
   "file_extension": ".py",
   "mimetype": "text/x-python",
   "name": "python",
   "nbconvert_exporter": "python",
   "pygments_lexer": "ipython3",
   "version": "3.10.6"
  }
 },
 "nbformat": 4,
 "nbformat_minor": 5
}
